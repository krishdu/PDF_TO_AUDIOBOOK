{
 "cells": [
  {
   "cell_type": "code",
   "execution_count": 1,
   "metadata": {
    "colab": {
     "base_uri": "https://localhost:8080/"
    },
    "executionInfo": {
     "elapsed": 6075,
     "status": "ok",
     "timestamp": 1613643775235,
     "user": {
      "displayName": "Krishnendu Patra",
      "photoUrl": "https://lh3.googleusercontent.com/a-/AOh14Gi13xl22ySvhwDKo8rdt_y1PTgvODOn9MUUHRMRxa0=s64",
      "userId": "00045366593128286919"
     },
     "user_tz": -330
    },
    "id": "91Ai7DLryKPz",
    "outputId": "78889c36-838f-40cd-b1f7-da5f65d27ad5"
   },
   "outputs": [
    {
     "name": "stdout",
     "output_type": "stream",
     "text": [
      "Collecting PyPDF2\n",
      "\u001b[?25l  Downloading https://files.pythonhosted.org/packages/b4/01/68fcc0d43daf4c6bdbc6b33cc3f77bda531c86b174cac56ef0ffdb96faab/PyPDF2-1.26.0.tar.gz (77kB)\n",
      "\r",
      "\u001b[K     |████▎                           | 10kB 15.0MB/s eta 0:00:01\r",
      "\u001b[K     |████████▌                       | 20kB 9.8MB/s eta 0:00:01\r",
      "\u001b[K     |████████████▊                   | 30kB 8.2MB/s eta 0:00:01\r",
      "\u001b[K     |█████████████████               | 40kB 7.5MB/s eta 0:00:01\r",
      "\u001b[K     |█████████████████████▏          | 51kB 4.4MB/s eta 0:00:01\r",
      "\u001b[K     |█████████████████████████▍      | 61kB 4.9MB/s eta 0:00:01\r",
      "\u001b[K     |█████████████████████████████▋  | 71kB 4.9MB/s eta 0:00:01\r",
      "\u001b[K     |████████████████████████████████| 81kB 3.6MB/s \n",
      "\u001b[?25hBuilding wheels for collected packages: PyPDF2\n",
      "  Building wheel for PyPDF2 (setup.py) ... \u001b[?25l\u001b[?25hdone\n",
      "  Created wheel for PyPDF2: filename=PyPDF2-1.26.0-cp36-none-any.whl size=61087 sha256=a7e352511d7782ba85c335383d69595d8031d14cbb8d1c6672ba82186c8472ae\n",
      "  Stored in directory: /root/.cache/pip/wheels/53/84/19/35bc977c8bf5f0c23a8a011aa958acd4da4bbd7a229315c1b7\n",
      "Successfully built PyPDF2\n",
      "Installing collected packages: PyPDF2\n",
      "Successfully installed PyPDF2-1.26.0\n"
     ]
    }
   ],
   "source": [
    "!pip install PyPDF2"
   ]
  },
  {
   "cell_type": "code",
   "execution_count": 2,
   "metadata": {
    "executionInfo": {
     "elapsed": 6066,
     "status": "ok",
     "timestamp": 1613643775236,
     "user": {
      "displayName": "Krishnendu Patra",
      "photoUrl": "https://lh3.googleusercontent.com/a-/AOh14Gi13xl22ySvhwDKo8rdt_y1PTgvODOn9MUUHRMRxa0=s64",
      "userId": "00045366593128286919"
     },
     "user_tz": -330
    },
    "id": "22zy31bVyTyD"
   },
   "outputs": [],
   "source": [
    "import PyPDF2\n",
    "import warnings\n",
    "warnings.filterwarnings(\"ignore\",category=DeprecationWarning)"
   ]
  },
  {
   "cell_type": "code",
   "execution_count": 3,
   "metadata": {
    "executionInfo": {
     "elapsed": 116785,
     "status": "ok",
     "timestamp": 1613643885959,
     "user": {
      "displayName": "Krishnendu Patra",
      "photoUrl": "https://lh3.googleusercontent.com/a-/AOh14Gi13xl22ySvhwDKo8rdt_y1PTgvODOn9MUUHRMRxa0=s64",
      "userId": "00045366593128286919"
     },
     "user_tz": -330
    },
    "id": "Jc1pi6giyU5u"
   },
   "outputs": [],
   "source": [
    "!pip install -U -q PyDrive\n",
    "from pydrive.auth import GoogleAuth\n",
    "from pydrive.drive import GoogleDrive\n",
    "from google.colab import auth\n",
    "from oauth2client.client import GoogleCredentials\n",
    "auth.authenticate_user()\n",
    "gauth = GoogleAuth()\n",
    "gauth.credentials = GoogleCredentials.get_application_default()\n",
    "drive = GoogleDrive(gauth)"
   ]
  },
  {
   "cell_type": "code",
   "execution_count": 4,
   "metadata": {
    "executionInfo": {
     "elapsed": 119558,
     "status": "ok",
     "timestamp": 1613643888735,
     "user": {
      "displayName": "Krishnendu Patra",
      "photoUrl": "https://lh3.googleusercontent.com/a-/AOh14Gi13xl22ySvhwDKo8rdt_y1PTgvODOn9MUUHRMRxa0=s64",
      "userId": "00045366593128286919"
     },
     "user_tz": -330
    },
    "id": "NDXiXZQnya7I"
   },
   "outputs": [],
   "source": [
    "downloaded = drive.CreateFile({'id':'xxxxxxxxxxxxxxxxxxxxxxxxxxxxxxx'})\n",
    "downloaded.GetContentFile('kids.pdf')"
   ]
  },
  {
   "cell_type": "code",
   "execution_count": 5,
   "metadata": {
    "executionInfo": {
     "elapsed": 119563,
     "status": "ok",
     "timestamp": 1613643888744,
     "user": {
      "displayName": "Krishnendu Patra",
      "photoUrl": "https://lh3.googleusercontent.com/a-/AOh14Gi13xl22ySvhwDKo8rdt_y1PTgvODOn9MUUHRMRxa0=s64",
      "userId": "00045366593128286919"
     },
     "user_tz": -330
    },
    "id": "G6PonnofydnJ"
   },
   "outputs": [],
   "source": [
    "open_filename = open('kids.pdf', 'rb')\n",
    "\n",
    "doc_details = PyPDF2.PdfFileReader(open_filename)"
   ]
  },
  {
   "cell_type": "code",
   "execution_count": 6,
   "metadata": {
    "colab": {
     "base_uri": "https://localhost:8080/"
    },
    "executionInfo": {
     "elapsed": 119554,
     "status": "ok",
     "timestamp": 1613643888745,
     "user": {
      "displayName": "Krishnendu Patra",
      "photoUrl": "https://lh3.googleusercontent.com/a-/AOh14Gi13xl22ySvhwDKo8rdt_y1PTgvODOn9MUUHRMRxa0=s64",
      "userId": "00045366593128286919"
     },
     "user_tz": -330
    },
    "id": "Op74a5hvygHf",
    "outputId": "b6ddf816-a7ba-4670-f4ed-cd904ca09e03"
   },
   "outputs": [
    {
     "data": {
      "text/plain": [
       "{'/CreationDate': \"D:20170530155659+01'00'\",\n",
       " '/Creator': 'Adobe Acrobat Pro DC 17.9.20044',\n",
       " '/ModDate': \"D:20170530155659+01'00'\",\n",
       " '/Producer': 'Adobe Acrobat Pro DC 17.9.20044',\n",
       " '/Title': ''}"
      ]
     },
     "execution_count": 6,
     "metadata": {
      "tags": []
     },
     "output_type": "execute_result"
    }
   ],
   "source": [
    "doc_details.getDocumentInfo()"
   ]
  },
  {
   "cell_type": "code",
   "execution_count": 7,
   "metadata": {
    "colab": {
     "base_uri": "https://localhost:8080/"
    },
    "executionInfo": {
     "elapsed": 119547,
     "status": "ok",
     "timestamp": 1613643888747,
     "user": {
      "displayName": "Krishnendu Patra",
      "photoUrl": "https://lh3.googleusercontent.com/a-/AOh14Gi13xl22ySvhwDKo8rdt_y1PTgvODOn9MUUHRMRxa0=s64",
      "userId": "00045366593128286919"
     },
     "user_tz": -330
    },
    "id": "nm54lui5yii0",
    "outputId": "a20cccc7-2d21-4015-d869-785ed56c2442"
   },
   "outputs": [
    {
     "data": {
      "text/plain": [
       "32"
      ]
     },
     "execution_count": 7,
     "metadata": {
      "tags": []
     },
     "output_type": "execute_result"
    }
   ],
   "source": [
    "total_pages = doc_details.numPages\n",
    "total_pages"
   ]
  },
  {
   "cell_type": "code",
   "execution_count": 8,
   "metadata": {
    "colab": {
     "base_uri": "https://localhost:8080/",
     "height": 1000
    },
    "executionInfo": {
     "elapsed": 142208,
     "status": "ok",
     "timestamp": 1613643911419,
     "user": {
      "displayName": "Krishnendu Patra",
      "photoUrl": "https://lh3.googleusercontent.com/a-/AOh14Gi13xl22ySvhwDKo8rdt_y1PTgvODOn9MUUHRMRxa0=s64",
      "userId": "00045366593128286919"
     },
     "user_tz": -330
    },
    "id": "UvFU1gWgymAn",
    "outputId": "69fdf5ab-c56f-4077-e9e5-660eee5e281f"
   },
   "outputs": [
    {
     "name": "stdout",
     "output_type": "stream",
     "text": [
      "Collecting textract\n",
      "  Downloading https://files.pythonhosted.org/packages/32/31/ef9451e6e48a1a57e337c5f20d4ef58c1a13d91560d2574c738b1320bb8d/textract-1.6.3-py3-none-any.whl\n",
      "Requirement already satisfied: chardet==3.0.4 in /usr/local/lib/python3.6/dist-packages (from textract) (3.0.4)\n",
      "Collecting extract-msg==0.23.1\n",
      "\u001b[?25l  Downloading https://files.pythonhosted.org/packages/a1/90/84485a914ed90adb5e87df17e626be04162fbba146dfecf34643659a4633/extract_msg-0.23.1-py2.py3-none-any.whl (45kB)\n",
      "\u001b[K     |████████████████████████████████| 51kB 3.5MB/s \n",
      "\u001b[?25hCollecting SpeechRecognition==3.8.1\n",
      "\u001b[?25l  Downloading https://files.pythonhosted.org/packages/26/e1/7f5678cd94ec1234269d23756dbdaa4c8cfaed973412f88ae8adf7893a50/SpeechRecognition-3.8.1-py2.py3-none-any.whl (32.8MB)\n",
      "\u001b[K     |████████████████████████████████| 32.8MB 114kB/s \n",
      "\u001b[?25hCollecting argcomplete==1.10.0\n",
      "  Downloading https://files.pythonhosted.org/packages/4d/82/f44c9661e479207348a979b1f6f063625d11dc4ca6256af053719bbb0124/argcomplete-1.10.0-py2.py3-none-any.whl\n",
      "Collecting pdfminer.six==20181108\n",
      "\u001b[?25l  Downloading https://files.pythonhosted.org/packages/8a/fd/6e8746e6965d1a7ea8e97253e3d79e625da5547e8f376f88de5d024bacb9/pdfminer.six-20181108-py2.py3-none-any.whl (5.6MB)\n",
      "\u001b[K     |████████████████████████████████| 5.6MB 40.4MB/s \n",
      "\u001b[?25hCollecting python-pptx==0.6.18\n",
      "\u001b[?25l  Downloading https://files.pythonhosted.org/packages/bf/86/eb979f7b0333ec769041aae36df8b9f1bd8bea5bbad44620663890dce561/python-pptx-0.6.18.tar.gz (8.9MB)\n",
      "\u001b[K     |████████████████████████████████| 8.9MB 37.2MB/s \n",
      "\u001b[?25hCollecting EbookLib==0.17.1\n",
      "\u001b[?25l  Downloading https://files.pythonhosted.org/packages/00/38/7d6ab2e569a9165249619d73b7bc6be0e713a899a3bc2513814b6598a84c/EbookLib-0.17.1.tar.gz (111kB)\n",
      "\u001b[K     |████████████████████████████████| 112kB 57.2MB/s \n",
      "\u001b[?25hCollecting docx2txt==0.8\n",
      "  Downloading https://files.pythonhosted.org/packages/7d/7d/60ee3f2b16d9bfdfa72e8599470a2c1a5b759cb113c6fe1006be28359327/docx2txt-0.8.tar.gz\n",
      "Collecting xlrd==1.2.0\n",
      "\u001b[?25l  Downloading https://files.pythonhosted.org/packages/b0/16/63576a1a001752e34bf8ea62e367997530dc553b689356b9879339cf45a4/xlrd-1.2.0-py2.py3-none-any.whl (103kB)\n",
      "\u001b[K     |████████████████████████████████| 112kB 43.5MB/s \n",
      "\u001b[?25hCollecting six==1.12.0\n",
      "  Downloading https://files.pythonhosted.org/packages/73/fb/00a976f728d0d1fecfe898238ce23f502a721c0ac0ecfedb80e0d88c64e9/six-1.12.0-py2.py3-none-any.whl\n",
      "Collecting beautifulsoup4==4.8.0\n",
      "\u001b[?25l  Downloading https://files.pythonhosted.org/packages/1a/b7/34eec2fe5a49718944e215fde81288eec1fa04638aa3fb57c1c6cd0f98c3/beautifulsoup4-4.8.0-py3-none-any.whl (97kB)\n",
      "\u001b[K     |████████████████████████████████| 102kB 9.9MB/s \n",
      "\u001b[?25hCollecting imapclient==2.1.0\n",
      "\u001b[?25l  Downloading https://files.pythonhosted.org/packages/dc/39/e1c2c2c6e2356ab6ea81fcfc0a74b044b311d6a91a45300811d9a6077ef7/IMAPClient-2.1.0-py2.py3-none-any.whl (73kB)\n",
      "\u001b[K     |████████████████████████████████| 81kB 9.1MB/s \n",
      "\u001b[?25hRequirement already satisfied: tzlocal==1.5.1 in /usr/local/lib/python3.6/dist-packages (from extract-msg==0.23.1->textract) (1.5.1)\n",
      "Collecting olefile==0.46\n",
      "\u001b[?25l  Downloading https://files.pythonhosted.org/packages/34/81/e1ac43c6b45b4c5f8d9352396a14144bba52c8fec72a80f425f6a4d653ad/olefile-0.46.zip (112kB)\n",
      "\u001b[K     |████████████████████████████████| 112kB 54.5MB/s \n",
      "\u001b[?25hRequirement already satisfied: sortedcontainers in /usr/local/lib/python3.6/dist-packages (from pdfminer.six==20181108->textract) (2.3.0)\n",
      "Collecting pycryptodome\n",
      "\u001b[?25l  Downloading https://files.pythonhosted.org/packages/ad/16/9627ab0493894a11c68e46000dbcc82f578c8ff06bc2980dcd016aea9bd3/pycryptodome-3.10.1-cp35-abi3-manylinux2010_x86_64.whl (1.9MB)\n",
      "\u001b[K     |████████████████████████████████| 1.9MB 39.8MB/s \n",
      "\u001b[?25hRequirement already satisfied: lxml>=3.1.0 in /usr/local/lib/python3.6/dist-packages (from python-pptx==0.6.18->textract) (4.2.6)\n",
      "Requirement already satisfied: Pillow>=3.3.2 in /usr/local/lib/python3.6/dist-packages (from python-pptx==0.6.18->textract) (7.0.0)\n",
      "Collecting XlsxWriter>=0.5.7\n",
      "\u001b[?25l  Downloading https://files.pythonhosted.org/packages/6b/41/bf1aae04932d1eaffee1fc5f8b38ca47bbbf07d765129539bc4bcce1ce0c/XlsxWriter-1.3.7-py2.py3-none-any.whl (144kB)\n",
      "\u001b[K     |████████████████████████████████| 153kB 47.1MB/s \n",
      "\u001b[?25hCollecting soupsieve>=1.2\n",
      "  Downloading https://files.pythonhosted.org/packages/41/e7/3617a4b988ed7744743fb0dbba5aa0a6e3f95a9557b43f8c4740d296b48a/soupsieve-2.2-py3-none-any.whl\n",
      "Requirement already satisfied: pytz in /usr/local/lib/python3.6/dist-packages (from tzlocal==1.5.1->extract-msg==0.23.1->textract) (2018.9)\n",
      "Building wheels for collected packages: python-pptx, EbookLib, docx2txt, olefile\n",
      "  Building wheel for python-pptx (setup.py) ... \u001b[?25l\u001b[?25hdone\n",
      "  Created wheel for python-pptx: filename=python_pptx-0.6.18-cp36-none-any.whl size=275707 sha256=2118c2056c13c43841ad417a41186d695cc4a1742f86eb67e5da3888bc4ac2dc\n",
      "  Stored in directory: /root/.cache/pip/wheels/1f/1f/2c/29acca422b420a0b5210bd2cd7e9669804520d602d2462f20b\n",
      "  Building wheel for EbookLib (setup.py) ... \u001b[?25l\u001b[?25hdone\n",
      "  Created wheel for EbookLib: filename=EbookLib-0.17.1-cp36-none-any.whl size=38163 sha256=b400272a90014652a4ab657f820048bb1b61cf0efb07c389ce0dbc424484823c\n",
      "  Stored in directory: /root/.cache/pip/wheels/84/11/01/951369cbbf8f96878786a1f4da68bd7ac19a5d945b38e03d54\n",
      "  Building wheel for docx2txt (setup.py) ... \u001b[?25l\u001b[?25hdone\n",
      "  Created wheel for docx2txt: filename=docx2txt-0.8-cp36-none-any.whl size=3960 sha256=d89bd0ba43e0235265c97ec13976f2ac2787efd3a171f65d4fe2c4c67d21ffca\n",
      "  Stored in directory: /root/.cache/pip/wheels/b2/1f/26/a051209bbb77fc6bcfae2bb7e01fa0ff941b82292ab084d596\n",
      "  Building wheel for olefile (setup.py) ... \u001b[?25l\u001b[?25hdone\n",
      "  Created wheel for olefile: filename=olefile-0.46-py2.py3-none-any.whl size=35416 sha256=0bc4a37dcb390a445e33efe89eca689c3cc90191f09962d480ddebc481b3a0ef\n",
      "  Stored in directory: /root/.cache/pip/wheels/4b/f4/11/bc4166107c27f07fd7bba707ffcb439619197638a1ac986df3\n",
      "Successfully built python-pptx EbookLib docx2txt olefile\n",
      "\u001b[31mERROR: tensorflow 2.4.1 has requirement six~=1.15.0, but you'll have six 1.12.0 which is incompatible.\u001b[0m\n",
      "\u001b[31mERROR: nbclient 0.5.2 has requirement jupyter-client>=6.1.5, but you'll have jupyter-client 5.3.5 which is incompatible.\u001b[0m\n",
      "\u001b[31mERROR: google-colab 1.0.0 has requirement six~=1.15.0, but you'll have six 1.12.0 which is incompatible.\u001b[0m\n",
      "\u001b[31mERROR: datascience 0.10.6 has requirement folium==0.2.1, but you'll have folium 0.8.3 which is incompatible.\u001b[0m\n",
      "\u001b[31mERROR: albumentations 0.1.12 has requirement imgaug<0.2.7,>=0.2.5, but you'll have imgaug 0.2.9 which is incompatible.\u001b[0m\n",
      "Installing collected packages: six, imapclient, olefile, extract-msg, SpeechRecognition, argcomplete, pycryptodome, pdfminer.six, XlsxWriter, python-pptx, EbookLib, docx2txt, xlrd, soupsieve, beautifulsoup4, textract\n",
      "  Found existing installation: six 1.15.0\n",
      "    Uninstalling six-1.15.0:\n",
      "      Successfully uninstalled six-1.15.0\n",
      "  Found existing installation: xlrd 1.1.0\n",
      "    Uninstalling xlrd-1.1.0:\n",
      "      Successfully uninstalled xlrd-1.1.0\n",
      "  Found existing installation: beautifulsoup4 4.6.3\n",
      "    Uninstalling beautifulsoup4-4.6.3:\n",
      "      Successfully uninstalled beautifulsoup4-4.6.3\n",
      "Successfully installed EbookLib-0.17.1 SpeechRecognition-3.8.1 XlsxWriter-1.3.7 argcomplete-1.10.0 beautifulsoup4-4.8.0 docx2txt-0.8 extract-msg-0.23.1 imapclient-2.1.0 olefile-0.46 pdfminer.six-20181108 pycryptodome-3.10.1 python-pptx-0.6.18 six-1.12.0 soupsieve-2.2 textract-1.6.3 xlrd-1.2.0\n"
     ]
    },
    {
     "data": {
      "application/vnd.colab-display-data+json": {
       "pip_warning": {
        "packages": [
         "six"
        ]
       }
      }
     },
     "metadata": {
      "tags": []
     },
     "output_type": "display_data"
    }
   ],
   "source": [
    "!pip install textract"
   ]
  },
  {
   "cell_type": "code",
   "execution_count": 9,
   "metadata": {
    "executionInfo": {
     "elapsed": 142206,
     "status": "ok",
     "timestamp": 1613643911421,
     "user": {
      "displayName": "Krishnendu Patra",
      "photoUrl": "https://lh3.googleusercontent.com/a-/AOh14Gi13xl22ySvhwDKo8rdt_y1PTgvODOn9MUUHRMRxa0=s64",
      "userId": "00045366593128286919"
     },
     "user_tz": -330
    },
    "id": "u1QjkgYNyod4"
   },
   "outputs": [],
   "source": [
    "import textract "
   ]
  },
  {
   "cell_type": "code",
   "execution_count": 10,
   "metadata": {
    "executionInfo": {
     "elapsed": 144723,
     "status": "ok",
     "timestamp": 1613643913942,
     "user": {
      "displayName": "Krishnendu Patra",
      "photoUrl": "https://lh3.googleusercontent.com/a-/AOh14Gi13xl22ySvhwDKo8rdt_y1PTgvODOn9MUUHRMRxa0=s64",
      "userId": "00045366593128286919"
     },
     "user_tz": -330
    },
    "id": "cSL8NSLXyq0N"
   },
   "outputs": [],
   "source": [
    "count = 5\n",
    "text  = ''\n",
    " \n",
    "while(count < total_pages):\n",
    "    page_text  = doc_details.getPage(count)\n",
    "    count += 1\n",
    "    text += page_text.extractText()"
   ]
  },
  {
   "cell_type": "code",
   "execution_count": 11,
   "metadata": {
    "colab": {
     "base_uri": "https://localhost:8080/",
     "height": 171
    },
    "executionInfo": {
     "elapsed": 144729,
     "status": "ok",
     "timestamp": 1613643913964,
     "user": {
      "displayName": "Krishnendu Patra",
      "photoUrl": "https://lh3.googleusercontent.com/a-/AOh14Gi13xl22ySvhwDKo8rdt_y1PTgvODOn9MUUHRMRxa0=s64",
      "userId": "00045366593128286919"
     },
     "user_tz": -330
    },
    "id": "_cTTy3lNyt4y",
    "outputId": "a9f5ce93-0c2b-4c82-df66-c1c483e23a4f"
   },
   "outputs": [
    {
     "data": {
      "application/vnd.google.colaboratory.intrinsic+json": {
       "type": "string"
      },
      "text/plain": [
       "'11The New House\\nMurph hated the new house more than he could \\nremember hating anything, ever. A light wind, \\nsuch as you often ˜nd at the beginning of a story, tousled \\nhis shaggy brown hair as he stood looking up at it.\\n He was trying to work out, with all the power of his\\n just-\\n \\neleven-year-\\n \\nold brain, why it made him feel so \\nincredibly rotten.\\nThe problem with the new house was – it was just \\nso \\nnew.\\n When Murph was smaller he™d lived in a much \\nolder house, with interesting wooden stairs that led to an \\ninterestingly dingy attic full of interesting boxes, and\\n there was a garden with interesting trees to climb and \\ninteresting dens to build. It had been the sort of house \\nadventures happen in Œ although, to be fair, they never \\nactually had. But the \\npotential\\n was there.\\nNow there was no chance those adventures would \\n9781408884539_ KID NORMAL_4th Pass_Andrea.indd   128/03/2017   17:1223ever happen. Four years ago, Murph, his mum and his \\nbrother had left that house behind when his mum™s job \\nhad forced them all to move to a new town. That had been \\nbad enough. But, just a year later, they™d had to move again. \\nAnd then again. Then again. So here he was, a third of his \\nlifetime away from the rambling old rooms he™d loved so \\nmuch, staring at yet another new house and wishing \\nsomeone would blow it up or set ˜re to it. Which, in fact, \\nthey would. But he didn™t know that just yet.\\nEven if Murph had known that the new house would \\nbe a smoking ruin within a few short months, it wouldn™t \\nhave cheered him up very much. Underneath a brownish \\ndrizzly evening sky that matched his mood perfectly, he \\nheaved cardboard boxes into the box-\\n \\nlike house and \\ndumped them in the echoing hall, which was painted a \\npale shade of green almost exactly matching the colour \\nof cat sick.\\nMurph™s new bedroom was painted a different but \\nequally horrible green colour, like an avocado that had \\ngone out of fashion. It was a prime candidate for the Most \\nDepressing Room in the Rubbish New House Award, and \\nit was up against some stiff competition. It had nothing\\n in it except a mattress on the ˚oor and a set of white \\ndrawers. Had it been daytime, the curtain-\\n \\nless window \\nwould have offered a view of the oily canal at the back \\nof the house, and a brick wall on the other side. Murph \\nwas glad it was dark.\\nWith a sigh, he unzipped his bag and started to \\nunpack, bunging jeans and T-shirts into the drawers more \\nor less at random. Eventually he came to the last four \\nitems in the bag, but instead of putting them away, Murph \\nlaid them out on the bare mattress and sat down cross-\\n legged on the ˚oor to look at them.\\nThey were four grey shirts Œ the shirts he™d worn on \\nhis last day at his last four schools. The ˜rst was covered \\nwith signatures in felt tip: it had been a tradition there \\nthat if someone was leaving, everyone got to write a \\nfarewell message.\\nWe™ll miss you, buddy, from Max\\nStay in touch, superstar! Sam\\nDon™t leave us, Mighty Murph! Lucas\\nThere were other signatures and messages too, \\ncovering most of the grey material with cheerful, multi-\\n coloured letters.\\n9781408884539_ KID NORMAL_4th Pass_Andrea.indd   228/03/2017   17:1223ever happen. Four years ago, Murph, his mum and his \\nbrother had left that house behind when his mum™s job \\nhad forced them all to move to a new town. That had been \\nbad enough. But, just a year later, they™d had to move again. \\nAnd then again. Then again. So here he was, a third of his \\nlifetime away from the rambling old rooms he™d loved so \\nmuch, staring at yet another new house and wishing \\nsomeone would blow it up or set ˜re to it. Which, in fact, \\nthey would. But he didn™t know that just yet.\\nEven if Murph had known that the new house would \\nbe a smoking ruin within a few short months, it wouldn™t \\nhave cheered him up very much. Underneath a brownish \\ndrizzly evening sky that matched his mood perfectly, he \\nheaved cardboard boxes into the box-\\n \\nlike house and \\ndumped them in the echoing hall, which was painted a \\npale shade of green almost exactly matching the colour \\nof cat sick.\\nMurph™s new bedroom was painted a different but \\nequally horrible green colour, like an avocado that had \\ngone out of fashion. It was a prime candidate for the Most \\nDepressing Room in the Rubbish New House Award, and \\nit was up against some stiff competition. It had nothing\\n in it except a mattress on the ˚oor and a set of white \\ndrawers. Had it been daytime, the curtain-\\n \\nless window \\nwould have offered a view of the oily canal at the back \\nof the house, and a brick wall on the other side. Murph \\nwas glad it was dark.\\nWith a sigh, he unzipped his bag and started to \\nunpack, bunging jeans and T-shirts into the drawers more \\nor less at random. Eventually he came to the last four \\nitems in the bag, but instead of putting them away, Murph \\nlaid them out on the bare mattress and sat down cross-\\n legged on the ˚oor to look at them.\\nThey were four grey shirts Œ the shirts he™d worn on \\nhis last day at his last four schools. The ˜rst was covered \\nwith signatures in felt tip: it had been a tradition there \\nthat if someone was leaving, everyone got to write a \\nfarewell message.\\nWe™ll miss you, buddy, from Max\\nStay in touch, superstar! Sam\\nDon™t leave us, Mighty Murph! Lucas\\nThere were other signatures and messages too, \\ncovering most of the grey material with cheerful, multi-\\n coloured letters.\\n9781408884539_ KID NORMAL_4th Pass_Andrea.indd   328/03/2017   17:1245Don™t leave us!\\nBut he™d had to leave Œ all because of his mum™s job. \\nAnd he™d meant to stay in touch Œ but he™d been busy that \\nfollowing year, making new friends to replace the ones \\nhe™d had to abandon.\\nHe picked up the second shirt and read the names \\nof those new friends. Not so many names on this second \\nshirt, but still some kind words.\\nCan™t believe you™re moving \\nafter just a year! Love, Pia\\nMurph! We™ll miss you. Come back \\nsoon, mate. Tom\\nShirt number three had only a couple of names \\nwritten in biro as a last-\\n \\nminute thought; he™d wanted\\n some kind of memory to cling on to.\\nThe fourth shirt was clean and unmarked.\\nMurph folded the shirts back up and piled them\\n into the bottom drawer of the white cabinet.\\nHe™d made no friends in the last year. He™d been \\nconvinced, and rightly so, that one day soon his mum \\nwould break it to him over dinner that they were going \\nto have to move again. Other people had become like \\nTV programmes to Murph. There was no point getting too \\ninvolved, because you never knew when someone was \\ngoing to come along and change the channel.\\nAs you™ll know if you™ve ever moved house, the First \\n Night Takeaway is a very important ritual. And like every \\nfamily that™s ever moved into a new home, Murph, his \\nbrother, Andy, and his mum sat down to eat takeaway \\nthat night with a weird feeling that they were in someone \\nelse™s home, and someone really needed to turn up the \\nheating.\\nThey ate out of the silver foil containers because his \\nmum couldn™t ˜nd the box with the plates in. Murph knew \\nexactly which one it was, but he was too busy stopping \\nhis older brother stealing his prawn crackers.\\n‚Those are mine, you big lump!™ he shouted as Andy \\nreached across like a greedy octopus and pulled out a \\ngreasy ˜stful.\\n‚You don™t need a whole bag to yourself, Smurph \\nFace!™ the big sixteen-\\n \\nyear-old lump replied.\\n‚Yes, I do,™ spluttered Murph, cracker debris fountain\\n-ing out of his mouth like the end of one of those big \\n9781408884539_ KID NORMAL_4th Pass_Andrea.indd   428/03/2017   17:1245Don™t leave us!\\nBut he™d had to leave Œ all because of his mum™s job. \\nAnd he™d meant to stay in touch Œ but he™d been busy that \\nfollowing year, making new friends to replace the ones \\nhe™d had to abandon.\\nHe picked up the second shirt and read the names \\nof those new friends. Not so many names on this second \\nshirt, but still some kind words.\\nCan™t believe you™re moving \\nafter just a year! Love, Pia\\nMurph! We™ll miss you. Come back \\nsoon, mate. Tom\\nShirt number three had only a couple of names \\nwritten in biro as a last-\\n \\nminute thought; he™d wanted\\n some kind of memory to cling on to.\\nThe fourth shirt was clean and unmarked.\\nMurph folded the shirts back up and piled them\\n into the bottom drawer of the white cabinet.\\nHe™d made no friends in the last year. He™d been \\nconvinced, and rightly so, that one day soon his mum \\nwould break it to him over dinner that they were going \\nto have to move again. Other people had become like \\nTV programmes to Murph. There was no point getting too \\ninvolved, because you never knew when someone was \\ngoing to come along and change the channel.\\nAs you™ll know if you™ve ever moved house, the First \\n Night Takeaway is a very important ritual. And like every \\nfamily that™s ever moved into a new home, Murph, his \\nbrother, Andy, and his mum sat down to eat takeaway \\nthat night with a weird feeling that they were in someone \\nelse™s home, and someone really needed to turn up the \\nheating.\\nThey ate out of the silver foil containers because his \\nmum couldn™t ˜nd the box with the plates in. Murph knew \\nexactly which one it was, but he was too busy stopping \\nhis older brother stealing his prawn crackers.\\n‚Those are mine, you big lump!™ he shouted as Andy \\nreached across like a greedy octopus and pulled out a \\ngreasy ˜stful.\\n‚You don™t need a whole bag to yourself, Smurph \\nFace!™ the big sixteen-\\n \\nyear-old lump replied.\\n‚Yes, I do,™ spluttered Murph, cracker debris fountain\\n-ing out of his mouth like the end of one of those big \\n9781408884539_ KID NORMAL_4th Pass_Andrea.indd   528/03/2017   17:1267impressive ˜reworks, only prawn-\\n \\nscented. ‚And don™t \\n call me Smurph Face. You know I don™t like it.™\\n‚Sorry, Smurph Face,™ said Andy proudly, with the air \\nof someone who™d just said something incredibly clever.\\n‚Come on, you two,™ sighed their mum. ‚Andy, don™t \\ncall your brother Smurph Face. And, Smurph Face, share \\nyour prawn crackers.™\\n‚MUM\\n!™ shouted Smurph FaŒ sorry Œ \\nMurph\\n. The \\nothers chuckled, and he reluctantly joined in: ‚You™re \\nganging up on me. As if it wasn™t bad enough getting \\ndragged to nowheresville to live in a shoebox. I am not \\na shoe!™\\nHis mum put a comforting hand on his cheek. ‚I know \\nyou™re not a shoe. And I know you didn™t want to move \\nagain.™ Murph watched as she tilted her head back, \\napparently to fend off a couple of mum-\\n \\nstyle tears. She \\ndidn™t want to come and live here either, he thought to \\nhimself.\\n‚I know it™s going to take a while to settle in,™ Murph™s \\nmum told them both, ‚but just you wait, boys. You™ll have \\na great time in the end, I promise. We™re going to make \\nthe best of things here. It™s going to be –™ She paused, \\nsearching for the right word, and though Murph didn™t \\nrealise it at the time, she found the perfect one. ‚It™s going \\nto be – \\nsuper\\n.™9781408884539_ KID NORMAL_4th Pass_Andrea.indd   628/03/2017   17:1267impressive ˜reworks, only prawn-\\n \\nscented. ‚And don™t \\n call me Smurph Face. You know I don™t like it.™\\n‚Sorry, Smurph Face,™ said Andy proudly, with the air \\nof someone who™d just said something incredibly clever.\\n‚Come on, you two,™ sighed their mum. ‚Andy, don™t \\ncall your brother Smurph Face. And, Smurph Face, share \\nyour prawn crackers.™\\n‚MUM\\n!™ shouted Smurph FaŒ sorry Œ \\nMurph\\n. The \\nothers chuckled, and he reluctantly joined in: ‚You™re \\nganging up on me. As if it wasn™t bad enough getting \\ndragged to nowheresville to live in a shoebox. I am not \\na shoe!™\\nHis mum put a comforting hand on his cheek. ‚I know \\nyou™re not a shoe. And I know you didn™t want to move \\nagain.™ Murph watched as she tilted her head back, \\napparently to fend off a couple of mum-\\n \\nstyle tears. She \\ndidn™t want to come and live here either, he thought to \\nhimself.\\n‚I know it™s going to take a while to settle in,™ Murph™s \\nmum told them both, ‚but just you wait, boys. You™ll have \\na great time in the end, I promise. We™re going to make \\nthe best of things here. It™s going to be –™ She paused, \\nsearching for the right word, and though Murph didn™t \\nrealise it at the time, she found the perfect one. ‚It™s going \\nto be – \\nsuper\\n.™9781408884539_ KID NORMAL_4th Pass_Andrea.indd   728/03/2017   17:12892A Misunderstanding\\nThere were a lot of things Murph and his family \\n didn™t know about the new town. But the most \\nimportant thing they didn™t know was where Murph \\n was going to go to school. His mum had tried to sort \\n it out before they arrived, but everywhere seemed to \\n be full, and as the hot days of August drew on, she \\n became more and more obsessed with finding him \\n a place.\\nShe spent all evening on her laptop, chatting to\\n other parents and trying to get tips. She even started \\naccosting random mums and dads in the town and asking \\nthem where their children went to school, and whether \\nany of their friends were thinking of emigrating. Murph \\nwas morti˜ed. Andy, who was ˜ve years older, had a \\nplace at a local college and thought it was hilarious. \\n‚Maybe you can teach yourself at home,™ he teased him. \\n‚We™ll get you a few books and you can set a timer telling \\nyou when you can take a break.™\\nMurph didn™t think that was funny at the time Œ and \\nhe thought it was even less funny when August rolled \\nround into September and Andy went off to college. ‚Still \\nno school for you, little bro, sorry,™ he said, ruffling \\nMurph™s hair as he headed out the door.\\nIt was just about the worst week so far. Murph \\n tagged after his mum as she went for meetings at every \\nsecondary school in town. Curious faces watched him \\nas he tailed her past packed classrooms and into the \\nof˜ces of different head teachers. He sat quietly and, \\n as instructed, tried to look unusually clever. But every \\ntime the answer was the same: they would just have \\n to wait.\\nThen, a few days into this head-\\n \\nmeltingly depressing \\nprocess, Murph and his mum were on their way home \\nfrom the shops. The streets were fairly empty; most \\npeople were inside having their tea. A woman and a\\n boy only a little older than Murph turned out of a dingy-\\n looking side street not far ahead, and they overheard her \\nsaying, ‚So, how was school?™\\n9781408884539_ KID NORMAL_4th Pass_Andrea.indd   828/03/2017   17:12892A Misunderstanding\\nThere were a lot of things Murph and his family \\n didn™t know about the new town. But the most \\nimportant thing they didn™t know was where Murph \\n was going to go to school. His mum had tried to sort \\n it out before they arrived, but everywhere seemed to \\n be full, and as the hot days of August drew on, she \\n became more and more obsessed with finding him \\n a place.\\nShe spent all evening on her laptop, chatting to\\n other parents and trying to get tips. She even started \\naccosting random mums and dads in the town and asking \\nthem where their children went to school, and whether \\nany of their friends were thinking of emigrating. Murph \\nwas morti˜ed. Andy, who was ˜ve years older, had a \\nplace at a local college and thought it was hilarious. \\n‚Maybe you can teach yourself at home,™ he teased him. \\n‚We™ll get you a few books and you can set a timer telling \\nyou when you can take a break.™\\nMurph didn™t think that was funny at the time Œ and \\nhe thought it was even less funny when August rolled \\nround into September and Andy went off to college. ‚Still \\nno school for you, little bro, sorry,™ he said, ruffling \\nMurph™s hair as he headed out the door.\\nIt was just about the worst week so far. Murph \\n tagged after his mum as she went for meetings at every \\nsecondary school in town. Curious faces watched him \\nas he tailed her past packed classrooms and into the \\nof˜ces of different head teachers. He sat quietly and, \\n as instructed, tried to look unusually clever. But every \\ntime the answer was the same: they would just have \\n to wait.\\nThen, a few days into this head-\\n \\nmeltingly depressing \\nprocess, Murph and his mum were on their way home \\nfrom the shops. The streets were fairly empty; most \\npeople were inside having their tea. A woman and a\\n boy only a little older than Murph turned out of a dingy-\\n looking side street not far ahead, and they overheard her \\nsaying, ‚So, how was school?™\\n9781408884539_ KID NORMAL_4th Pass_Andrea.indd   928/03/2017   17:121011Murph™s mum, whose ears had developed a bat-\\n \\nlike \\nability to home in on any word connected to education, \\nsped up, gripping Murph™s hand tightly.\\n‚Muuuuum, let go!™ he pleaded. But looking up at her \\nface he realised there was no point arguing Œ this was \\nMum on a mission.\\nBy the time they™d crossed the road, the other boy \\nand his mother had already climbed into a car. For a \\nmoment Murph was worried his mum was going to \\nspread-\\n \\neagle herself on the bonnet to try and stop them \\nleaving. But instead, she turned into the side road they™d \\ncome out of, still dragging Murph along behind her like \\na low-\\n \\nquality kite.\\nIf the street had looked dingy from a distance, close \\nup it was positively murky. A few cars were parked on \\nthe scrubby grass verge, and the gardens in front of \\nmany of the grubby terraced houses were so scruffy, it \\nlooked like the wheelie bins were actually there to \\nsmarten them up a bit.\\nBut about halfway down the street was a large school. \\nThey knew it was a school because, apart from the\\n railings and familiar-\\n \\nlooking classroom buildings on\\n the other side of the front yard, there was a metal sign \\nover the gates that simply read:\\nTHE SCHOOL\\nA man was in front of it with his back to them, locking \\nthe gates.\\nMurph actually heard a loud clicking sound as his \\nmum gritted her teeth with determination and began to \\ncross the road.\\n‚Smarten yourself up,™ she hissed at him so ˜ercely \\nthat he actually did try and iron the front of his T-shirt \\nwith his hands. Then she changed her tone completely \\nand ˚uted ‚Excuse me!™ in a voice that would have put \\neven an unusually posh duchess to shame.\\nThe man slowly turned around.\\nMurph™s mum had started to say ‚Excuse me™ again, \\nbut it turned into a kind of throat-\\n \\nclearing noise on the \\nway out.\\nHe didn™t look like a normal sort of teacher. He had \\nvery dark, shiny slicked-\\n \\ndown hair with one large curl \\nplastered in the middle of his forehead. He was wearing \\n9781408884539_ KID NORMAL_4th Pass_Andrea.indd   1028/03/2017   17:121011Murph™s mum, whose ears had developed a bat-\\n \\nlike \\nability to home in on any word connected to education, \\nsped up, gripping Murph™s hand tightly.\\n‚Muuuuum, let go!™ he pleaded. But looking up at her \\nface he realised there was no point arguing Œ this was \\nMum on a mission.\\nBy the time they™d crossed the road, the other boy \\nand his mother had already climbed into a car. For a \\nmoment Murph was worried his mum was going to \\nspread-\\n \\neagle herself on the bonnet to try and stop them \\nleaving. But instead, she turned into the side road they™d \\ncome out of, still dragging Murph along behind her like \\na low-\\n \\nquality kite.\\nIf the street had looked dingy from a distance, close \\nup it was positively murky. A few cars were parked on \\nthe scrubby grass verge, and the gardens in front of \\nmany of the grubby terraced houses were so scruffy, it \\nlooked like the wheelie bins were actually there to \\nsmarten them up a bit.\\nBut about halfway down the street was a large school. \\nThey knew it was a school because, apart from the\\n railings and familiar-\\n \\nlooking classroom buildings on\\n the other side of the front yard, there was a metal sign \\nover the gates that simply read:\\nTHE SCHOOL\\nA man was in front of it with his back to them, locking \\nthe gates.\\nMurph actually heard a loud clicking sound as his \\nmum gritted her teeth with determination and began to \\ncross the road.\\n‚Smarten yourself up,™ she hissed at him so ˜ercely \\nthat he actually did try and iron the front of his T-shirt \\nwith his hands. Then she changed her tone completely \\nand ˚uted ‚Excuse me!™ in a voice that would have put \\neven an unusually posh duchess to shame.\\nThe man slowly turned around.\\nMurph™s mum had started to say ‚Excuse me™ again, \\nbut it turned into a kind of throat-\\n \\nclearing noise on the \\nway out.\\nHe didn™t look like a normal sort of teacher. He had \\nvery dark, shiny slicked-\\n \\ndown hair with one large curl \\nplastered in the middle of his forehead. He was wearing \\n9781408884539_ KID NORMAL_4th Pass_Andrea.indd   1128/03/2017   17:1213a shabby-\\n \\nlooking tweed jacket, but above the elbow \\npatches his arms bulged with muscle. Behind thick-\\n rimmed black glasses his eyes were bright blue. His\\n jaw was so chiselled it looked like it had been carved \\nout of wood.\\n‚Can I help you with something, ma™am?™ asked the \\nstrange sort of teacher.\\nMurph™s mum ˜nally recovered her voice and asked, \\n‚This is a school, isn™t it?™\\nThe man looked very much as if he™d like to say no, \\nbut then glanced up at the sign over his head.\\n‚Yeeeees,™ he replied very slowly and not very \\nencouragingly.\\n‚Oh, wonderful! You see, we™ve just moved here and \\nI™m having terrible dif˜culty ˜nding a school for my son,™ \\nshe began, draping an arm around Murph, ‚and Œ™\\nThe man cut her off.\\n‚I™m terribly sorry, ma™am; we™re not going to be able \\nto help you here. We™re – we™re not accepting applica\\n-tions from the –™ Œ he seemed to be searching for the \\nright word Œ ‚from the – the – we™re not accepting \\nany\\n children at the moment. I™m so sorry.™\\nThere followed a moment of silence, and Murph \\n was sure his mum was about to give up. But suddenly \\nshe grabbed the teacher by his upper arm. She needed \\nboth hands to do it.\\n‚Please,™ she breathed, ‚\\nplease\\n see what you can \\n do. Murph™s such a capable boy Œ he needs somewhere \\nlike your wonderful school to take him in.™\\n9781408884539_ KID NORMAL_4th Pass_Andrea.indd   1228/03/2017   17:1213a shabby-\\n \\nlooking tweed jacket, but above the elbow \\npatches his arms bulged with muscle. Behind thick-\\n rimmed black glasses his eyes were bright blue. His\\n jaw was so chiselled it looked like it had been carved \\nout of wood.\\n‚Can I help you with something, ma™am?™ asked the \\nstrange sort of teacher.\\nMurph™s mum ˜nally recovered her voice and asked, \\n‚This is a school, isn™t it?™\\nThe man looked very much as if he™d like to say no, \\nbut then glanced up at the sign over his head.\\n‚Yeeeees,™ he replied very slowly and not very \\nencouragingly.\\n‚Oh, wonderful! You see, we™ve just moved here and \\nI™m having terrible dif˜culty ˜nding a school for my son,™ \\nshe began, draping an arm around Murph, ‚and Œ™\\nThe man cut her off.\\n‚I™m terribly sorry, ma™am; we™re not going to be able \\nto help you here. We™re – we™re not accepting applica\\n-tions from the –™ Œ he seemed to be searching for the \\nright word Œ ‚from the – the – we™re not accepting \\nany\\n children at the moment. I™m so sorry.™\\nThere followed a moment of silence, and Murph \\n was sure his mum was about to give up. But suddenly \\nshe grabbed the teacher by his upper arm. She needed \\nboth hands to do it.\\n‚Please,™ she breathed, ‚\\nplease\\n see what you can \\n do. Murph™s such a capable boy Œ he needs somewhere \\nlike your wonderful school to take him in.™\\n9781408884539_ KID NORMAL_4th Pass_Andrea.indd   1328/03/2017   17:121415‚I™m sorry,™ said the man again, gently extracting his \\nhuge bicep from her grasp. ‚Good evening to you.™ And \\nhe began to walk away.\\n‚He™s a boy with so much potential!™ shouted Murph™s \\nmum after him. ‚With your help he could really – you \\ncould really help him \\n˜y!™The man stopped dead, and turned around.\\n‚Fly?™ he asked in a low voice.\\n‚Yes, \\n˜y. I really think that at the right school he – \\nhe could,™ she ˜nished rather lamely.\\n‚So, you™ve just moved to the area. And your son \\n is – \\ncapable\\n, you say?™ continued the man in a low voice.\\nMurph™s mum nodded enthusiastically.\\n‚And is Murph, ah, \\n˜ying\\n already?™ he asked, dropping \\nhis voice still further and glancing up and down the road.\\n‚Oh yes, he™s been doing ever so well,™ she replied, \\nalso lowering her voice to match his. ‚He really wouldn™t \\nlet you down.™\\n‚He™s actually ˚ying?™ the man whispered.\\nThe questioning was getting a little weird now, as \\nwell as dif˜cult to hear. Murph was busily occupying \\nhimself with how he could get the ground to open up and \\nswallow him. He™d seen some of his test results and it \\nwas a bit of a stretch to describe his performance so far \\nas ˚ying.\\nBut his mum seemed to scent victory. ‚He is, he \\n really is.™\\n‚Mr Drench, would you come over here for a moment?™ \\ncalled the man softly, and another, smaller ˜gure Murph \\nhadn™t noticed before came scurrying across the road. \\nHe was shorter and thinner than the other teacher, \\n and had keen, darting eyes behind round glasses.\\n‚Flying already, is he?™ he asked in a nasal voice as \\nhe walked up to them, although Murph wondered how \\non earth he could have possibly heard them talking.\\n‚This is my sidekiŒ er, that is to say Œ my assistant, \\nMr Drench,™ explained the first man. ‚He™ll take your \\ndetails.™ He turned to Murph and held out a hand. When \\nMurph took it, it felt like his own hand was being slowly \\ncrushed by tractor wheels. ‚Murph, we™ll see you on \\nMonday. I look forward to seeing how you get on with \\nthat ˚ying.™ He swished round as if he was wearing a \\ncape, but then swished back again: ‚And obviously don™t, \\ner, \\ntell\\n anyone about The School, will you?™\\n9781408884539_ KID NORMAL_4th Pass_Andrea.indd   1428/03/2017   17:121415‚I™m sorry,™ said the man again, gently extracting his \\nhuge bicep from her grasp. ‚Good evening to you.™ And \\nhe began to walk away.\\n‚He™s a boy with so much potential!™ shouted Murph™s \\nmum after him. ‚With your help he could really – you \\ncould really help him \\n˜y!™The man stopped dead, and turned around.\\n‚Fly?™ he asked in a low voice.\\n‚Yes, \\n˜y. I really think that at the right school he – \\nhe could,™ she ˜nished rather lamely.\\n‚So, you™ve just moved to the area. And your son \\n is – \\ncapable\\n, you say?™ continued the man in a low voice.\\nMurph™s mum nodded enthusiastically.\\n‚And is Murph, ah, \\n˜ying\\n already?™ he asked, dropping \\nhis voice still further and glancing up and down the road.\\n‚Oh yes, he™s been doing ever so well,™ she replied, \\nalso lowering her voice to match his. ‚He really wouldn™t \\nlet you down.™\\n‚He™s actually ˚ying?™ the man whispered.\\nThe questioning was getting a little weird now, as \\nwell as dif˜cult to hear. Murph was busily occupying \\nhimself with how he could get the ground to open up and \\nswallow him. He™d seen some of his test results and it \\nwas a bit of a stretch to describe his performance so far \\nas ˚ying.\\nBut his mum seemed to scent victory. ‚He is, he \\n really is.™\\n‚Mr Drench, would you come over here for a moment?™ \\ncalled the man softly, and another, smaller ˜gure Murph \\nhadn™t noticed before came scurrying across the road. \\nHe was shorter and thinner than the other teacher, \\n and had keen, darting eyes behind round glasses.\\n‚Flying already, is he?™ he asked in a nasal voice as \\nhe walked up to them, although Murph wondered how \\non earth he could have possibly heard them talking.\\n‚This is my sidekiŒ er, that is to say Œ my assistant, \\nMr Drench,™ explained the first man. ‚He™ll take your \\ndetails.™ He turned to Murph and held out a hand. When \\nMurph took it, it felt like his own hand was being slowly \\ncrushed by tractor wheels. ‚Murph, we™ll see you on \\nMonday. I look forward to seeing how you get on with \\nthat ˚ying.™ He swished round as if he was wearing a \\ncape, but then swished back again: ‚And obviously don™t, \\ner, \\ntell\\n anyone about The School, will you?™\\n9781408884539_ KID NORMAL_4th Pass_Andrea.indd   1528/03/2017   17:121617‚What, we can™t tell anyone? Because it™s a secret \\nschool?™ Murph™s mum laughed at her own joke.\\nThe two men looked confused for a moment, and\\n then, nervously, the hugely muscled man began to laugh \\nas well. ‚Haha, yes, of course I don™t need to tell you. Silly \\nof me.™\\nThe smaller man looked between them in confusion \\nas they continued chuckling. Murph just smiled nervously \\nand wished he was invisible.\\nMurph™s mum and the unusual teacher laughed \\n for slightly longer than necessary. Then an awkward \\nsilence fell.\\n‚So, is it secret, then?™ she asked with a nervous grin.\\n‚Oh yes,™ replied the man, swirling round once again. \\n‚Until Monday, then,™ he called over his shoulder as he \\nmarched away.\\nMurph and his mum caught each other™s eye in total \\nbemusement. Then she shrugged and turned to Mr\\n Drench, who had pulled a selection of forms from one of \\nhis pockets.\\n3Mumbarrassment\\nMurph had a tingling feeling in his stomach.\\nIt had started mid-\\n \\nmorning on Saturday and \\nhad grown steadily throughout Saturday night. When he \\nwoke up on Sunday morning it felt like there was a fairly \\nlarge collection of baby eels migrating through his \\ninsides. And by Sunday evening he couldn™t sit still\\n without feeling sick with worry, so he paced up and down \\nin the new house™s tiny garden.\\nHis brother had been no help at all. When they had \\nrelayed the weird ‚secret school™ conversation to him, \\nhe™d found it hilarious.\\n‚Ooh, do you have to get on a magical steam train at \\na hidden platform?™ he™d hooted as he ran up the stairs \\nafter Murph, who was trying to escape to his room. ‚Will \\nyou have to go to a special shop to choose a wand?™\\n‚Shut \\nup,™ hissed Murph between gritted teeth,\\n 9781408884539_ KID NORMAL_4th Pass_Andrea.indd   1628/03/2017   17:121617‚What, we can™t tell anyone? Because it™s a secret \\nschool?™ Murph™s mum laughed at her own joke.\\nThe two men looked confused for a moment, and\\n then, nervously, the hugely muscled man began to laugh \\nas well. ‚Haha, yes, of course I don™t need to tell you. Silly \\nof me.™\\nThe smaller man looked between them in confusion \\nas they continued chuckling. Murph just smiled nervously \\nand wished he was invisible.\\nMurph™s mum and the unusual teacher laughed \\n for slightly longer than necessary. Then an awkward \\nsilence fell.\\n‚So, is it secret, then?™ she asked with a nervous grin.\\n‚Oh yes,™ replied the man, swirling round once again. \\n‚Until Monday, then,™ he called over his shoulder as he \\nmarched away.\\nMurph and his mum caught each other™s eye in total \\nbemusement. Then she shrugged and turned to Mr\\n Drench, who had pulled a selection of forms from one of \\nhis pockets.\\n3Mumbarrassment\\nMurph had a tingling feeling in his stomach.\\nIt had started mid-\\n \\nmorning on Saturday and \\nhad grown steadily throughout Saturday night. When he \\nwoke up on Sunday morning it felt like there was a fairly \\nlarge collection of baby eels migrating through his \\ninsides. And by Sunday evening he couldn™t sit still\\n without feeling sick with worry, so he paced up and down \\nin the new house™s tiny garden.\\nHis brother had been no help at all. When they had \\nrelayed the weird ‚secret school™ conversation to him, \\nhe™d found it hilarious.\\n‚Ooh, do you have to get on a magical steam train at \\na hidden platform?™ he™d hooted as he ran up the stairs \\nafter Murph, who was trying to escape to his room. ‚Will \\nyou have to go to a special shop to choose a wand?™\\n‚Shut \\nup,™ hissed Murph between gritted teeth,\\n 9781408884539_ KID NORMAL_4th Pass_Andrea.indd   1728/03/2017   17:121819closing the door on Andy™s foot and trying to keep it shut \\nwith his shoulder.\\nA muf˚ed cry of ‚Hope you™re not hiding an owl in \\nthere!™ could be heard as Murph ˜nally managed to lock \\nhis door and collapsed on to his bed.\\nAndy had enjoyed the joke right through the\\n weekend. But now it was Monday morning, and Murph™s \\nmum had woken him up so early that he felt as if he \\nshould be shaking a few larks awake on his way down \\nto breakfast. Andy was old enough to get the bus to \\ncollege on his own, so he was still lolling in bed, listening \\nto the radio.\\nMurph™s sleepy stomach was in no mood for toast, \\nand his sleepy hair was in no mood to be brushed, but \\nnevertheless, by the time most of us are just about\\n thinking of doing a really good morning wee, Murph\\n was already being hustled towards the car.\\nYou see, Murph was one of those kids who have to \\nget dropped off ridiculously early. His mum™s shift at the \\nhospital started at nine o™clock, a long drive away across \\ntown. It had always been the same. For years now his \\nweekdays had started with hanging around school \\n alone like a knowledge-\\n hungry spectre.\\nActually, Murph had come to quite enjoy seeing \\n the inner workings of it all, before the kids came and \\nbroke the silence. He liked watching the milk get\\n delivered; he enjoyed chatting to the cleaners; he liked \\nseeing his teachers arrive in various states of readiness \\nfor school. It was like being backstage at a theatre\\n before the curtain went up, the only difference being that \\nonce the play ˜nally got going, there was no one to sell \\nice creams during the interval Œ or ‚break™, as they insisted \\non calling it.\\nMurph would have loved an ice cream at 11 a.m.\\nBut we™re getting distracted.\\n‚Go on, then,™ Murph™s mum encouraged him as she \\npulled up outside The School. She leaned over and \\nopened his door. ‚Be brave!™\\nMurph gave her a resigned look, swung his bag over \\nhis shoulder and jumped out of the car.\\nAs his mum drove off round the corner she beeped \\nthe car horn. This is classic mum embarrassment, or to \\nuse the technical term, \\nmumbarrassment\\n.Other acts of mumbarrassment include:\\n9781408884539_ KID NORMAL_4th Pass_Andrea.indd   1828/03/2017   17:121819closing the door on Andy™s foot and trying to keep it shut \\nwith his shoulder.\\nA muf˚ed cry of ‚Hope you™re not hiding an owl in \\nthere!™ could be heard as Murph ˜nally managed to lock \\nhis door and collapsed on to his bed.\\nAndy had enjoyed the joke right through the\\n weekend. But now it was Monday morning, and Murph™s \\nmum had woken him up so early that he felt as if he \\nshould be shaking a few larks awake on his way down \\nto breakfast. Andy was old enough to get the bus to \\ncollege on his own, so he was still lolling in bed, listening \\nto the radio.\\nMurph™s sleepy stomach was in no mood for toast, \\nand his sleepy hair was in no mood to be brushed, but \\nnevertheless, by the time most of us are just about\\n thinking of doing a really good morning wee, Murph\\n was already being hustled towards the car.\\nYou see, Murph was one of those kids who have to \\nget dropped off ridiculously early. His mum™s shift at the \\nhospital started at nine o™clock, a long drive away across \\ntown. It had always been the same. For years now his \\nweekdays had started with hanging around school \\n alone like a knowledge-\\n hungry spectre.\\nActually, Murph had come to quite enjoy seeing \\n the inner workings of it all, before the kids came and \\nbroke the silence. He liked watching the milk get\\n delivered; he enjoyed chatting to the cleaners; he liked \\nseeing his teachers arrive in various states of readiness \\nfor school. It was like being backstage at a theatre\\n before the curtain went up, the only difference being that \\nonce the play ˜nally got going, there was no one to sell \\nice creams during the interval Œ or ‚break™, as they insisted \\non calling it.\\nMurph would have loved an ice cream at 11 a.m.\\nBut we™re getting distracted.\\n‚Go on, then,™ Murph™s mum encouraged him as she \\npulled up outside The School. She leaned over and \\nopened his door. ‚Be brave!™\\nMurph gave her a resigned look, swung his bag over \\nhis shoulder and jumped out of the car.\\nAs his mum drove off round the corner she beeped \\nthe car horn. This is classic mum embarrassment, or to \\nuse the technical term, \\nmumbarrassment\\n.Other acts of mumbarrassment include:\\n9781408884539_ KID NORMAL_4th Pass_Andrea.indd   1928/03/2017   17:122021After what seemed to be the world™s longest beep, \\n Murph threw his mum a half smile, half ‚please stop \\nbeeping™ face, waved meekly and hefted his bag on to \\nhis shoulder to begin what was to become the single \\nmost bizarre day of his life so far.\\nThe school gates were open, but there didn™t seem to \\nbe anybody around. Murph wandered across the yard \\nand through the open front doors, calling out ‚Hello?™ in \\na tiny ˜rst-\\n \\nday-at-\\n \\nschool voice. But there was no reply.\\nJust inside, Murph found a scratched wooden desk \\nwith an ancient-\\n \\nlooking computer on top. He decided to \\nsettle down on the uncomfortable plastic chair behind \\n the desk to wait for whatever happened next.\\nAt Murph™s last school there had always been \\n plenty of activity as the ˜rst bell loomed closer. Parents \\nchatting, kids rushing around, cars double-\\n \\nparking or \\ngetting chased off the zigzags by the unusually ˜erce \\nlollipop man. But here everything seemed to be much \\nquieter. He watched kids walking calmly across to the \\ngates, and spotted a dad dropping his daughter off in a \\nvery sleek black car. Two much older boys sauntered \\npast him, and he thought they must have smuggled a \\n˜rework in, because there was a loud bang just as they \\nrounded the corner.\\n‚Nice Cape, Howard!™ he heard one of them say, and \\nthey both laughed.\\n™- Kissing you goodbye in front of your friends\\n- Calling you by your baby nickname in front \\nof your friends (Murph™s was ‚Honeyhugs™. \\nWhen his mum had used it in public two \\nschools ago, he™d actually been glad he was \\nabout to move house again)\\n- Telling you to ‚stop showing off™ in front of \\nyour friends\\n- Asking if you have a girlfriend/boyfriend in \\nfront of your friends\\n- Asking if you have a girlfriend/boyfriend in \\nfront of the girl/boy you want to be your \\ngirlfriend/boyfriend\\n- Singing loudly in public\\n- Cleaning your face by licking a finger\\n- Asking if you have a handkerchief, as if you \\nwere a \\nVictorian waif\\n9781408884539_ KID NORMAL_4th Pass_Andrea.indd   2028/03/2017   17:122021After what seemed to be the world™s longest beep, \\n Murph threw his mum a half smile, half ‚please stop \\nbeeping™ face, waved meekly and hefted his bag on to \\nhis shoulder to begin what was to become the single \\nmost bizarre day of his life so far.\\nThe school gates were open, but there didn™t seem to \\nbe anybody around. Murph wandered across the yard \\nand through the open front doors, calling out ‚Hello?™ in \\na tiny ˜rst-\\n \\nday-at-\\n \\nschool voice. But there was no reply.\\nJust inside, Murph found a scratched wooden desk \\nwith an ancient-\\n \\nlooking computer on top. He decided to \\nsettle down on the uncomfortable plastic chair behind \\n the desk to wait for whatever happened next.\\nAt Murph™s last school there had always been \\n plenty of activity as the ˜rst bell loomed closer. Parents \\nchatting, kids rushing around, cars double-\\n \\nparking or \\ngetting chased off the zigzags by the unusually ˜erce \\nlollipop man. But here everything seemed to be much \\nquieter. He watched kids walking calmly across to the \\ngates, and spotted a dad dropping his daughter off in a \\nvery sleek black car. Two much older boys sauntered \\npast him, and he thought they must have smuggled a \\n˜rework in, because there was a loud bang just as they \\nrounded the corner.\\n‚Nice Cape, Howard!™ he heard one of them say, and \\nthey both laughed.\\n- Kissing you goodbye in front of your friends\\n- Calling you by your baby nickname in front \\nof your friends (Murph™s was ‚Honeyhugs™. \\nWhen his mum had used it in public two \\nschools ago, he™d actually been glad he was \\nabout to move house again)\\n- Telling you to ‚stop showing off™ in front of \\nyour friends\\n- Asking if you have a girlfriend/boyfriend in \\nfront of your friends\\n- Asking if you have a girlfriend/boyfriend in \\nfront of the girl/boy you want to be your \\ngirlfriend/boyfriend\\n- Singing loudly in public\\n- Cleaning your face by licking a finger\\n- Asking if you have a handkerchief, as if you \\nwere a \\nVictorian waif\\n9781408884539_ KID NORMAL_4th Pass_Andrea.indd   2128/03/2017   17:122223\\nNeither of them was wearing a cape, but that still didn™t \\nmake it funny as far as Murph was concerned.\\nThe only thing that seemed different for a while was \\nthat everyone seemed to be heading into school rather \\nquickly and quietly. It was all very organised, even\\n without a lollipop operative, or ‚lollipoperative™, to keep \\nthings in order.\\nBut as the start of the school day drew nearer, things \\ndid begin to cross the line into weird. In fact, they\\n leaped way over the line and came closer to ‚What the \\ncheese and pickle salad is going on here?™\\nWhile he waited for someone to come and tell him \\nwhat to do, Murph gazed out of the window. It was a grey, \\nrainy day, but suddenly, a bright yellow ˜gure underneath \\nan umbrella appeared out of the low-\\n hanging clouds and \\ndrifted rapidly down and out of sight behind one of the \\nschool buildings.\\nMurph couldn™t believe his eyes. Was he tired? Was \\nhe hallucinating? Was he going mad?\\nMaybe it was a giant canary\\n, he thought.\\nHe quickly rationalised this idea away, remembering \\nthat giant canaries aren™t a thing (but wishing brie˚y that \\nthey were), and then tried to work out what had just \\nhappened. He had to ˜nd out what this lemon-\\n \\ncoloured \\nthing was.\\nHe got up from his desk and dashed out, following \\n the trajectory of the giant canary Œ or the thing that \\n couldn™t possibly be a giant canary, not least because of \\nthe umbrella. He turned to the left, traced the direction \\n of the figure in the sky and raced towards the playing \\n ˜elds.\\nNext to a side door marked \\nCloakroom\\n, he saw a \\nyellow ˜gure ˚icking water off its arms and doing that \\nopeny-\\n \\nshutty thing that has no name, which you use to \\nmake umbrellas dry.\\nIn fact, let™s give that thing a name right now. From \\na shortlist of three Œ \\nflofting\\n, blatting\\n and \\n\\n Œ we have selected the word \\n\\n and we hope you like it.\\nThe ˜gure was \\n\\n an umbrella vigorously.\\nMurph approached at speed as the ˜gure slipped into \\nthe cloakroom. Just as the door was closing, he twisted \\nhis body to try and slip inside unnoticed. But instead \\n 9781408884539_ KID NORMAL_4th Pass_Andrea.indd   2228/03/2017   17:122223\\nNeither of them was wearing a cape, but that still didn™t \\nmake it funny as far as Murph was concerned.\\nThe only thing that seemed different for a while was \\nthat everyone seemed to be heading into school rather \\nquickly and quietly. It was all very organised, even\\n without a lollipop operative, or ‚lollipoperative™, to keep \\nthings in order.\\nBut as the start of the school day drew nearer, things \\ndid begin to cross the line into weird. In fact, they\\n leaped way over the line and came closer to ‚What the \\ncheese and pickle salad is going on here?™\\nWhile he waited for someone to come and tell him \\nwhat to do, Murph gazed out of the window. It was a grey, \\nrainy day, but suddenly, a bright yellow ˜gure underneath \\nan umbrella appeared out of the low-\\n hanging clouds and \\ndrifted rapidly down and out of sight behind one of the \\nschool buildings.\\nMurph couldn™t believe his eyes. Was he tired? Was \\nhe hallucinating? Was he going mad?\\nMaybe it was a giant canary\\n, he thought.\\nHe quickly rationalised this idea away, remembering \\nthat giant canaries aren™t a thing (but wishing brie˚y that \\nthey were), and then tried to work out what had just \\nhappened. He had to ˜nd out what this lemon-\\n \\ncoloured \\nthing was.\\nHe got up from his desk and dashed out, following \\n the trajectory of the giant canary Œ or the thing that \\n couldn™t possibly be a giant canary, not least because of \\nthe umbrella. He turned to the left, traced the direction \\n of the figure in the sky and raced towards the playing \\n ˜elds.\\nNext to a side door marked \\nCloakroom\\n, he saw a \\nyellow ˜gure ˚icking water off its arms and doing that \\nopeny-\\n \\nshutty thing that has no name, which you use to \\nmake umbrellas dry.\\nIn fact, let™s give that thing a name right now. From \\na shortlist of three Œ \\nflofting\\n, blatting\\n and \\n\\n Œ we have selected the word \\n\\n and we hope you like it.\\nThe ˜gure was \\n\\n an umbrella vigorously.\\nMurph approached at speed as the ˜gure slipped into \\nthe cloakroom. Just as the door was closing, he twisted \\nhis body to try and slip inside unnoticed. But instead \\n 9781408884539_ KID NORMAL_4th Pass_Andrea.indd   2328/03/2017   17:122425he skidded on the wet floor, careered inside like an \\n ice-\\n \\nskating rhino and collided with a wall of damp yellow.\\nAs he scrambled to his feet, he was relieved Œ mostly \\nŒ to ˜nd that the ˜gure he™d seen ˚umphing the yellow \\numbrella wasn™t a giant canary but a very normal-\\n \\nlooking, \\nbespectacled girl.\\n‚Sorry! Hello! Urm, did you, ˚y – sorry, canary – \\nboots – massive bird, it™s raining –™\\nMurph was panicking. He wasn™t great with girls at \\nthe best of times, especially when they had, quite\\n literally, just ˚oated into his life.\\n‚Hello, clumsy,™ replied the girl, calmly taking off\\n her glasses and doing that grown-\\n \\nup polishing thing\\n on the end of her obviously yellow woollen scarf. ‚I™m \\nMary. Who are you?™\\nMurph was so shocked that an apparently occasionally \\nairborne girl was making conversation with him that he \\nmomentarily forgot his own name.\\n‚MarŒ – Murph.™\\n‚Well, Mar-Murph, lovely to meet you. Are you a ˜rst \\nyear too?™\\nThis was the moment for a really world-\\n \\nclass \\ncomeback.\\n‚Yes,™ Mar-Murph replied sheepishly.\\n‚OK, well, help me off with this coat and I™ll show \\n you to our classroom,™ commanded Mary.\\nAgain, this seemed to Murph like a great cue for a \\ndevastatingly funny line. A real zinger.\\n‚OK,™ he said, helping umbrella canary girl gather \\nup her belongings while approximately twenty-\\n \\nseven \\nimmediate questions buzzed unhelpfully round his head.\\n9781408884539_ KID NORMAL_4th Pass_Andrea.indd   2428/03/2017   17:122425he skidded on the wet floor, careered inside like an \\n ice-\\n \\nskating rhino and collided with a wall of damp yellow.\\nAs he scrambled to his feet, he was relieved Œ mostly \\nŒ to ˜nd that the ˜gure he™d seen ˚umphing the yellow \\numbrella wasn™t a giant canary but a very normal-\\n \\nlooking, \\nbespectacled girl.\\n‚Sorry! Hello! Urm, did you, ˚y – sorry, canary – \\nboots – massive bird, it™s raining –™\\nMurph was panicking. He wasn™t great with girls at \\nthe best of times, especially when they had, quite\\n literally, just ˚oated into his life.\\n‚Hello, clumsy,™ replied the girl, calmly taking off\\n her glasses and doing that grown-\\n \\nup polishing thing\\n on the end of her obviously yellow woollen scarf. ‚I™m \\nMary. Who are you?™\\nMurph was so shocked that an apparently occasionally \\nairborne girl was making conversation with him that he \\nmomentarily forgot his own name.\\n‚MarŒ – Murph.™\\n‚Well, Mar-Murph, lovely to meet you. Are you a ˜rst \\nyear too?™\\nThis was the moment for a really world-\\n \\nclass \\ncomeback.\\n‚Yes,™ Mar-Murph replied sheepishly.\\n‚OK, well, help me off with this coat and I™ll show \\n you to our classroom,™ commanded Mary.\\nAgain, this seemed to Murph like a great cue for a \\ndevastatingly funny line. A real zinger.\\n‚OK,™ he said, helping umbrella canary girl gather \\nup her belongings while approximately twenty-\\n \\nseven \\nimmediate questions buzzed unhelpfully round his head.\\n9781408884539_ KID NORMAL_4th Pass_Andrea.indd   2528/03/2017   17:122627Murph picked out one of those questions as they \\nzipped through the corridors. He thought he™d go for the \\nbig one ˜rst: ‚Erm, Mary – did you just come to school, \\nyou know – through the, er, through the actual air?™\\n‚Yep,™ replied Mary, like it was the most normal thing \\nin the world, ‚but let™s keep that between us two, shall \\nwe? I don™t think I™m really supposed to. But it™s quicker \\nthan walking, and I was late.™\\n‚OK, cool, just checking,™ replied Murph breezily, \\ntrying desperately not to freak out. ‚Also –™ Murph had \\nanother question. ‚Are you called Mary because of Mary \\nPoppins?™\\n‚Who?™ replied Mary, looking confused.\\n‚Oh, nothing. Just thought, y™know, because of the \\numbrella sky thing –™ burbled Murph.\\n‚What \\nare\\n you burbling on about?™ said Mary, raising \\nher eyebrows at him so they rose over the rims of her \\nglasses like two hairy blonde suns. ‚Right, here we are. \\nFollow me. This is Mr Flash™s classroom.™\\n‚Mr – \\nFlash\\n?™ Murph just had time to say before she \\nbundled him through the door.\\n4CT\\nTo begin with, Murph was relieved to find that \\neverything inside the classroom looked more or \\n less normal. Two teachers were standing at the front of \\na class of kids all noisily settling into chairs and dumping \\ntheir bags under desks. One was the chiselled-\\n \\nchinned \\nteacher he™d met at the school gates. He greeted Murph \\nwith a very hearty ‚Ah, good morning to our new arrival!™ \\nand began moving towards him, holding out an upraised \\npalm as if introducing a minor celebrity.\\nMary looked impressed. ‚How do you know Mr \\nSouperman?™ she asked Murph.\\n‚Mr – Super\\nwhat\\n?™Mary shot him another one of her looks. She did\\n looks. ‚Boy, you really \\nare\\n new, aren™t you? Mr Souper-\\nman™s the head teacher. I™ll save you a seat.™ She whisked \\noff.\\n9781408884539_ KID NORMAL_4th Pass_Andrea.indd   2628/03/2017   17:12Bloomsbury Publishing, London, Oxford, New York, New Delhi and Sydney\\nFirst published in Great Britain in July 2017 by Bloomsbury Publishing Plc\\n50 Bedford Square, London WC1B 3DP\\nwww.bloomsbury.com\\nBLOOMSBURY\\n is a registered trademark of Bloomsbury Publishing Plc\\nText copyright © Greg Milward and Chris Smith 2017\\nIllustrations copyright © Erica Salcedo 2017\\nThe moral rights of the authors and illustrator have been asserted\\nPages 110 Œ 111 Œ \\nThe Lion King\\n joke (parody fair dealing/use) Œ THE LION KING\\n® is a registered trademark of Disney Enterprises, Inc.\\n The Lion King\\n characters \\ncopyright © 1994 the Walt Disney Company\\nPages 112 Œ 113 Œ \\nFrozen \\njoke (parody fair dealing/use) Œ FROZEN\\n® is a registered \\ntrade mark of Disney Enterprises Inc.\\n Princess Elsa and other Disney \\nFrozen\\n characters © 2013 the Walt Disney Company\\nAll rights reserved\\nNo part of this publication may be reproduced or\\ntransmitted by any means, electronic, mechanical, photocopying \\n or otherwise, without the prior permission of the publisher\\nA \\nCIP\\n catalogue record for this book is available from the British Library\\nISBN\\n 978 1 4088 8453 9\\nTypeset by Re˜neCatch Limited, Bungay, Suffolk\\nPrinted and bound in Great Britain by \\nCPI\\n Group (\\nUK) Ltd, Croydon \\nCR0 4\\nYY1 3 5 7 9 10 8 6 4 2\\nTo LJ\\nŒ Chris\\nTo Kid Normals everywhere. \\n Always say yes to an adventure \\n Œ Greg\\n9781408884539_ KID NORMAL_4th Pass_Andrea.indd   428/03/2017   17:12'"
      ]
     },
     "execution_count": 11,
     "metadata": {
      "tags": []
     },
     "output_type": "execute_result"
    }
   ],
   "source": [
    "text"
   ]
  },
  {
   "cell_type": "code",
   "execution_count": 12,
   "metadata": {
    "executionInfo": {
     "elapsed": 144734,
     "status": "ok",
     "timestamp": 1613643913973,
     "user": {
      "displayName": "Krishnendu Patra",
      "photoUrl": "https://lh3.googleusercontent.com/a-/AOh14Gi13xl22ySvhwDKo8rdt_y1PTgvODOn9MUUHRMRxa0=s64",
      "userId": "00045366593128286919"
     },
     "user_tz": -330
    },
    "id": "7vFYZaB9ywrf"
   },
   "outputs": [],
   "source": [
    "text=\" \".join(filter(lambda x:x[0]!='#', text.split()))"
   ]
  },
  {
   "cell_type": "code",
   "execution_count": 13,
   "metadata": {
    "colab": {
     "base_uri": "https://localhost:8080/",
     "height": 171
    },
    "executionInfo": {
     "elapsed": 144720,
     "status": "ok",
     "timestamp": 1613643913974,
     "user": {
      "displayName": "Krishnendu Patra",
      "photoUrl": "https://lh3.googleusercontent.com/a-/AOh14Gi13xl22ySvhwDKo8rdt_y1PTgvODOn9MUUHRMRxa0=s64",
      "userId": "00045366593128286919"
     },
     "user_tz": -330
    },
    "id": "8dj8hqiTyzj5",
    "outputId": "dae72001-838a-4d5e-9d1b-9475ae546cb3"
   },
   "outputs": [
    {
     "data": {
      "application/vnd.google.colaboratory.intrinsic+json": {
       "type": "string"
      },
      "text/plain": [
       "'11The New House Murph hated the new house more than he could remember hating anything, ever. A light wind, such as you often ˜nd at the beginning of a story, tousled his shaggy brown hair as he stood looking up at it. He was trying to work out, with all the power of his just- eleven-year- old brain, why it made him feel so incredibly rotten. The problem with the new house was – it was just so new. When Murph was smaller he™d lived in a much older house, with interesting wooden stairs that led to an interestingly dingy attic full of interesting boxes, and there was a garden with interesting trees to climb and interesting dens to build. It had been the sort of house adventures happen in Œ although, to be fair, they never actually had. But the potential was there. Now there was no chance those adventures would 9781408884539_ KID NORMAL_4th Pass_Andrea.indd 128/03/2017 17:1223ever happen. Four years ago, Murph, his mum and his brother had left that house behind when his mum™s job had forced them all to move to a new town. That had been bad enough. But, just a year later, they™d had to move again. And then again. Then again. So here he was, a third of his lifetime away from the rambling old rooms he™d loved so much, staring at yet another new house and wishing someone would blow it up or set ˜re to it. Which, in fact, they would. But he didn™t know that just yet. Even if Murph had known that the new house would be a smoking ruin within a few short months, it wouldn™t have cheered him up very much. Underneath a brownish drizzly evening sky that matched his mood perfectly, he heaved cardboard boxes into the box- like house and dumped them in the echoing hall, which was painted a pale shade of green almost exactly matching the colour of cat sick. Murph™s new bedroom was painted a different but equally horrible green colour, like an avocado that had gone out of fashion. It was a prime candidate for the Most Depressing Room in the Rubbish New House Award, and it was up against some stiff competition. It had nothing in it except a mattress on the ˚oor and a set of white drawers. Had it been daytime, the curtain- less window would have offered a view of the oily canal at the back of the house, and a brick wall on the other side. Murph was glad it was dark. With a sigh, he unzipped his bag and started to unpack, bunging jeans and T-shirts into the drawers more or less at random. Eventually he came to the last four items in the bag, but instead of putting them away, Murph laid them out on the bare mattress and sat down cross- legged on the ˚oor to look at them. They were four grey shirts Œ the shirts he™d worn on his last day at his last four schools. The ˜rst was covered with signatures in felt tip: it had been a tradition there that if someone was leaving, everyone got to write a farewell message. We™ll miss you, buddy, from Max Stay in touch, superstar! Sam Don™t leave us, Mighty Murph! Lucas There were other signatures and messages too, covering most of the grey material with cheerful, multi- coloured letters. 9781408884539_ KID NORMAL_4th Pass_Andrea.indd 228/03/2017 17:1223ever happen. Four years ago, Murph, his mum and his brother had left that house behind when his mum™s job had forced them all to move to a new town. That had been bad enough. But, just a year later, they™d had to move again. And then again. Then again. So here he was, a third of his lifetime away from the rambling old rooms he™d loved so much, staring at yet another new house and wishing someone would blow it up or set ˜re to it. Which, in fact, they would. But he didn™t know that just yet. Even if Murph had known that the new house would be a smoking ruin within a few short months, it wouldn™t have cheered him up very much. Underneath a brownish drizzly evening sky that matched his mood perfectly, he heaved cardboard boxes into the box- like house and dumped them in the echoing hall, which was painted a pale shade of green almost exactly matching the colour of cat sick. Murph™s new bedroom was painted a different but equally horrible green colour, like an avocado that had gone out of fashion. It was a prime candidate for the Most Depressing Room in the Rubbish New House Award, and it was up against some stiff competition. It had nothing in it except a mattress on the ˚oor and a set of white drawers. Had it been daytime, the curtain- less window would have offered a view of the oily canal at the back of the house, and a brick wall on the other side. Murph was glad it was dark. With a sigh, he unzipped his bag and started to unpack, bunging jeans and T-shirts into the drawers more or less at random. Eventually he came to the last four items in the bag, but instead of putting them away, Murph laid them out on the bare mattress and sat down cross- legged on the ˚oor to look at them. They were four grey shirts Œ the shirts he™d worn on his last day at his last four schools. The ˜rst was covered with signatures in felt tip: it had been a tradition there that if someone was leaving, everyone got to write a farewell message. We™ll miss you, buddy, from Max Stay in touch, superstar! Sam Don™t leave us, Mighty Murph! Lucas There were other signatures and messages too, covering most of the grey material with cheerful, multi- coloured letters. 9781408884539_ KID NORMAL_4th Pass_Andrea.indd 328/03/2017 17:1245Don™t leave us! But he™d had to leave Œ all because of his mum™s job. And he™d meant to stay in touch Œ but he™d been busy that following year, making new friends to replace the ones he™d had to abandon. He picked up the second shirt and read the names of those new friends. Not so many names on this second shirt, but still some kind words. Can™t believe you™re moving after just a year! Love, Pia Murph! We™ll miss you. Come back soon, mate. Tom Shirt number three had only a couple of names written in biro as a last- minute thought; he™d wanted some kind of memory to cling on to. The fourth shirt was clean and unmarked. Murph folded the shirts back up and piled them into the bottom drawer of the white cabinet. He™d made no friends in the last year. He™d been convinced, and rightly so, that one day soon his mum would break it to him over dinner that they were going to have to move again. Other people had become like TV programmes to Murph. There was no point getting too involved, because you never knew when someone was going to come along and change the channel. As you™ll know if you™ve ever moved house, the First Night Takeaway is a very important ritual. And like every family that™s ever moved into a new home, Murph, his brother, Andy, and his mum sat down to eat takeaway that night with a weird feeling that they were in someone else™s home, and someone really needed to turn up the heating. They ate out of the silver foil containers because his mum couldn™t ˜nd the box with the plates in. Murph knew exactly which one it was, but he was too busy stopping his older brother stealing his prawn crackers. ‚Those are mine, you big lump!™ he shouted as Andy reached across like a greedy octopus and pulled out a greasy ˜stful. ‚You don™t need a whole bag to yourself, Smurph Face!™ the big sixteen- year-old lump replied. ‚Yes, I do,™ spluttered Murph, cracker debris fountain -ing out of his mouth like the end of one of those big 9781408884539_ KID NORMAL_4th Pass_Andrea.indd 428/03/2017 17:1245Don™t leave us! But he™d had to leave Œ all because of his mum™s job. And he™d meant to stay in touch Œ but he™d been busy that following year, making new friends to replace the ones he™d had to abandon. He picked up the second shirt and read the names of those new friends. Not so many names on this second shirt, but still some kind words. Can™t believe you™re moving after just a year! Love, Pia Murph! We™ll miss you. Come back soon, mate. Tom Shirt number three had only a couple of names written in biro as a last- minute thought; he™d wanted some kind of memory to cling on to. The fourth shirt was clean and unmarked. Murph folded the shirts back up and piled them into the bottom drawer of the white cabinet. He™d made no friends in the last year. He™d been convinced, and rightly so, that one day soon his mum would break it to him over dinner that they were going to have to move again. Other people had become like TV programmes to Murph. There was no point getting too involved, because you never knew when someone was going to come along and change the channel. As you™ll know if you™ve ever moved house, the First Night Takeaway is a very important ritual. And like every family that™s ever moved into a new home, Murph, his brother, Andy, and his mum sat down to eat takeaway that night with a weird feeling that they were in someone else™s home, and someone really needed to turn up the heating. They ate out of the silver foil containers because his mum couldn™t ˜nd the box with the plates in. Murph knew exactly which one it was, but he was too busy stopping his older brother stealing his prawn crackers. ‚Those are mine, you big lump!™ he shouted as Andy reached across like a greedy octopus and pulled out a greasy ˜stful. ‚You don™t need a whole bag to yourself, Smurph Face!™ the big sixteen- year-old lump replied. ‚Yes, I do,™ spluttered Murph, cracker debris fountain -ing out of his mouth like the end of one of those big 9781408884539_ KID NORMAL_4th Pass_Andrea.indd 528/03/2017 17:1267impressive ˜reworks, only prawn- scented. ‚And don™t call me Smurph Face. You know I don™t like it.™ ‚Sorry, Smurph Face,™ said Andy proudly, with the air of someone who™d just said something incredibly clever. ‚Come on, you two,™ sighed their mum. ‚Andy, don™t call your brother Smurph Face. And, Smurph Face, share your prawn crackers.™ ‚MUM !™ shouted Smurph FaŒ sorry Œ Murph . The others chuckled, and he reluctantly joined in: ‚You™re ganging up on me. As if it wasn™t bad enough getting dragged to nowheresville to live in a shoebox. I am not a shoe!™ His mum put a comforting hand on his cheek. ‚I know you™re not a shoe. And I know you didn™t want to move again.™ Murph watched as she tilted her head back, apparently to fend off a couple of mum- style tears. She didn™t want to come and live here either, he thought to himself. ‚I know it™s going to take a while to settle in,™ Murph™s mum told them both, ‚but just you wait, boys. You™ll have a great time in the end, I promise. We™re going to make the best of things here. It™s going to be –™ She paused, searching for the right word, and though Murph didn™t realise it at the time, she found the perfect one. ‚It™s going to be – super .™9781408884539_ KID NORMAL_4th Pass_Andrea.indd 628/03/2017 17:1267impressive ˜reworks, only prawn- scented. ‚And don™t call me Smurph Face. You know I don™t like it.™ ‚Sorry, Smurph Face,™ said Andy proudly, with the air of someone who™d just said something incredibly clever. ‚Come on, you two,™ sighed their mum. ‚Andy, don™t call your brother Smurph Face. And, Smurph Face, share your prawn crackers.™ ‚MUM !™ shouted Smurph FaŒ sorry Œ Murph . The others chuckled, and he reluctantly joined in: ‚You™re ganging up on me. As if it wasn™t bad enough getting dragged to nowheresville to live in a shoebox. I am not a shoe!™ His mum put a comforting hand on his cheek. ‚I know you™re not a shoe. And I know you didn™t want to move again.™ Murph watched as she tilted her head back, apparently to fend off a couple of mum- style tears. She didn™t want to come and live here either, he thought to himself. ‚I know it™s going to take a while to settle in,™ Murph™s mum told them both, ‚but just you wait, boys. You™ll have a great time in the end, I promise. We™re going to make the best of things here. It™s going to be –™ She paused, searching for the right word, and though Murph didn™t realise it at the time, she found the perfect one. ‚It™s going to be – super .™9781408884539_ KID NORMAL_4th Pass_Andrea.indd 728/03/2017 17:12892A Misunderstanding There were a lot of things Murph and his family didn™t know about the new town. But the most important thing they didn™t know was where Murph was going to go to school. His mum had tried to sort it out before they arrived, but everywhere seemed to be full, and as the hot days of August drew on, she became more and more obsessed with finding him a place. She spent all evening on her laptop, chatting to other parents and trying to get tips. She even started accosting random mums and dads in the town and asking them where their children went to school, and whether any of their friends were thinking of emigrating. Murph was morti˜ed. Andy, who was ˜ve years older, had a place at a local college and thought it was hilarious. ‚Maybe you can teach yourself at home,™ he teased him. ‚We™ll get you a few books and you can set a timer telling you when you can take a break.™ Murph didn™t think that was funny at the time Œ and he thought it was even less funny when August rolled round into September and Andy went off to college. ‚Still no school for you, little bro, sorry,™ he said, ruffling Murph™s hair as he headed out the door. It was just about the worst week so far. Murph tagged after his mum as she went for meetings at every secondary school in town. Curious faces watched him as he tailed her past packed classrooms and into the of˜ces of different head teachers. He sat quietly and, as instructed, tried to look unusually clever. But every time the answer was the same: they would just have to wait. Then, a few days into this head- meltingly depressing process, Murph and his mum were on their way home from the shops. The streets were fairly empty; most people were inside having their tea. A woman and a boy only a little older than Murph turned out of a dingy- looking side street not far ahead, and they overheard her saying, ‚So, how was school?™ 9781408884539_ KID NORMAL_4th Pass_Andrea.indd 828/03/2017 17:12892A Misunderstanding There were a lot of things Murph and his family didn™t know about the new town. But the most important thing they didn™t know was where Murph was going to go to school. His mum had tried to sort it out before they arrived, but everywhere seemed to be full, and as the hot days of August drew on, she became more and more obsessed with finding him a place. She spent all evening on her laptop, chatting to other parents and trying to get tips. She even started accosting random mums and dads in the town and asking them where their children went to school, and whether any of their friends were thinking of emigrating. Murph was morti˜ed. Andy, who was ˜ve years older, had a place at a local college and thought it was hilarious. ‚Maybe you can teach yourself at home,™ he teased him. ‚We™ll get you a few books and you can set a timer telling you when you can take a break.™ Murph didn™t think that was funny at the time Œ and he thought it was even less funny when August rolled round into September and Andy went off to college. ‚Still no school for you, little bro, sorry,™ he said, ruffling Murph™s hair as he headed out the door. It was just about the worst week so far. Murph tagged after his mum as she went for meetings at every secondary school in town. Curious faces watched him as he tailed her past packed classrooms and into the of˜ces of different head teachers. He sat quietly and, as instructed, tried to look unusually clever. But every time the answer was the same: they would just have to wait. Then, a few days into this head- meltingly depressing process, Murph and his mum were on their way home from the shops. The streets were fairly empty; most people were inside having their tea. A woman and a boy only a little older than Murph turned out of a dingy- looking side street not far ahead, and they overheard her saying, ‚So, how was school?™ 9781408884539_ KID NORMAL_4th Pass_Andrea.indd 928/03/2017 17:121011Murph™s mum, whose ears had developed a bat- like ability to home in on any word connected to education, sped up, gripping Murph™s hand tightly. ‚Muuuuum, let go!™ he pleaded. But looking up at her face he realised there was no point arguing Œ this was Mum on a mission. By the time they™d crossed the road, the other boy and his mother had already climbed into a car. For a moment Murph was worried his mum was going to spread- eagle herself on the bonnet to try and stop them leaving. But instead, she turned into the side road they™d come out of, still dragging Murph along behind her like a low- quality kite. If the street had looked dingy from a distance, close up it was positively murky. A few cars were parked on the scrubby grass verge, and the gardens in front of many of the grubby terraced houses were so scruffy, it looked like the wheelie bins were actually there to smarten them up a bit. But about halfway down the street was a large school. They knew it was a school because, apart from the railings and familiar- looking classroom buildings on the other side of the front yard, there was a metal sign over the gates that simply read: THE SCHOOL A man was in front of it with his back to them, locking the gates. Murph actually heard a loud clicking sound as his mum gritted her teeth with determination and began to cross the road. ‚Smarten yourself up,™ she hissed at him so ˜ercely that he actually did try and iron the front of his T-shirt with his hands. Then she changed her tone completely and ˚uted ‚Excuse me!™ in a voice that would have put even an unusually posh duchess to shame. The man slowly turned around. Murph™s mum had started to say ‚Excuse me™ again, but it turned into a kind of throat- clearing noise on the way out. He didn™t look like a normal sort of teacher. He had very dark, shiny slicked- down hair with one large curl plastered in the middle of his forehead. He was wearing 9781408884539_ KID NORMAL_4th Pass_Andrea.indd 1028/03/2017 17:121011Murph™s mum, whose ears had developed a bat- like ability to home in on any word connected to education, sped up, gripping Murph™s hand tightly. ‚Muuuuum, let go!™ he pleaded. But looking up at her face he realised there was no point arguing Œ this was Mum on a mission. By the time they™d crossed the road, the other boy and his mother had already climbed into a car. For a moment Murph was worried his mum was going to spread- eagle herself on the bonnet to try and stop them leaving. But instead, she turned into the side road they™d come out of, still dragging Murph along behind her like a low- quality kite. If the street had looked dingy from a distance, close up it was positively murky. A few cars were parked on the scrubby grass verge, and the gardens in front of many of the grubby terraced houses were so scruffy, it looked like the wheelie bins were actually there to smarten them up a bit. But about halfway down the street was a large school. They knew it was a school because, apart from the railings and familiar- looking classroom buildings on the other side of the front yard, there was a metal sign over the gates that simply read: THE SCHOOL A man was in front of it with his back to them, locking the gates. Murph actually heard a loud clicking sound as his mum gritted her teeth with determination and began to cross the road. ‚Smarten yourself up,™ she hissed at him so ˜ercely that he actually did try and iron the front of his T-shirt with his hands. Then she changed her tone completely and ˚uted ‚Excuse me!™ in a voice that would have put even an unusually posh duchess to shame. The man slowly turned around. Murph™s mum had started to say ‚Excuse me™ again, but it turned into a kind of throat- clearing noise on the way out. He didn™t look like a normal sort of teacher. He had very dark, shiny slicked- down hair with one large curl plastered in the middle of his forehead. He was wearing 9781408884539_ KID NORMAL_4th Pass_Andrea.indd 1128/03/2017 17:1213a shabby- looking tweed jacket, but above the elbow patches his arms bulged with muscle. Behind thick- rimmed black glasses his eyes were bright blue. His jaw was so chiselled it looked like it had been carved out of wood. ‚Can I help you with something, ma™am?™ asked the strange sort of teacher. Murph™s mum ˜nally recovered her voice and asked, ‚This is a school, isn™t it?™ The man looked very much as if he™d like to say no, but then glanced up at the sign over his head. ‚Yeeeees,™ he replied very slowly and not very encouragingly. ‚Oh, wonderful! You see, we™ve just moved here and I™m having terrible dif˜culty ˜nding a school for my son,™ she began, draping an arm around Murph, ‚and Œ™ The man cut her off. ‚I™m terribly sorry, ma™am; we™re not going to be able to help you here. We™re – we™re not accepting applica -tions from the –™ Œ he seemed to be searching for the right word Œ ‚from the – the – we™re not accepting any children at the moment. I™m so sorry.™ There followed a moment of silence, and Murph was sure his mum was about to give up. But suddenly she grabbed the teacher by his upper arm. She needed both hands to do it. ‚Please,™ she breathed, ‚ please see what you can do. Murph™s such a capable boy Œ he needs somewhere like your wonderful school to take him in.™ 9781408884539_ KID NORMAL_4th Pass_Andrea.indd 1228/03/2017 17:1213a shabby- looking tweed jacket, but above the elbow patches his arms bulged with muscle. Behind thick- rimmed black glasses his eyes were bright blue. His jaw was so chiselled it looked like it had been carved out of wood. ‚Can I help you with something, ma™am?™ asked the strange sort of teacher. Murph™s mum ˜nally recovered her voice and asked, ‚This is a school, isn™t it?™ The man looked very much as if he™d like to say no, but then glanced up at the sign over his head. ‚Yeeeees,™ he replied very slowly and not very encouragingly. ‚Oh, wonderful! You see, we™ve just moved here and I™m having terrible dif˜culty ˜nding a school for my son,™ she began, draping an arm around Murph, ‚and Œ™ The man cut her off. ‚I™m terribly sorry, ma™am; we™re not going to be able to help you here. We™re – we™re not accepting applica -tions from the –™ Œ he seemed to be searching for the right word Œ ‚from the – the – we™re not accepting any children at the moment. I™m so sorry.™ There followed a moment of silence, and Murph was sure his mum was about to give up. But suddenly she grabbed the teacher by his upper arm. She needed both hands to do it. ‚Please,™ she breathed, ‚ please see what you can do. Murph™s such a capable boy Œ he needs somewhere like your wonderful school to take him in.™ 9781408884539_ KID NORMAL_4th Pass_Andrea.indd 1328/03/2017 17:121415‚I™m sorry,™ said the man again, gently extracting his huge bicep from her grasp. ‚Good evening to you.™ And he began to walk away. ‚He™s a boy with so much potential!™ shouted Murph™s mum after him. ‚With your help he could really – you could really help him ˜y!™The man stopped dead, and turned around. ‚Fly?™ he asked in a low voice. ‚Yes, ˜y. I really think that at the right school he – he could,™ she ˜nished rather lamely. ‚So, you™ve just moved to the area. And your son is – capable , you say?™ continued the man in a low voice. Murph™s mum nodded enthusiastically. ‚And is Murph, ah, ˜ying already?™ he asked, dropping his voice still further and glancing up and down the road. ‚Oh yes, he™s been doing ever so well,™ she replied, also lowering her voice to match his. ‚He really wouldn™t let you down.™ ‚He™s actually ˚ying?™ the man whispered. The questioning was getting a little weird now, as well as dif˜cult to hear. Murph was busily occupying himself with how he could get the ground to open up and swallow him. He™d seen some of his test results and it was a bit of a stretch to describe his performance so far as ˚ying. But his mum seemed to scent victory. ‚He is, he really is.™ ‚Mr Drench, would you come over here for a moment?™ called the man softly, and another, smaller ˜gure Murph hadn™t noticed before came scurrying across the road. He was shorter and thinner than the other teacher, and had keen, darting eyes behind round glasses. ‚Flying already, is he?™ he asked in a nasal voice as he walked up to them, although Murph wondered how on earth he could have possibly heard them talking. ‚This is my sidekiŒ er, that is to say Œ my assistant, Mr Drench,™ explained the first man. ‚He™ll take your details.™ He turned to Murph and held out a hand. When Murph took it, it felt like his own hand was being slowly crushed by tractor wheels. ‚Murph, we™ll see you on Monday. I look forward to seeing how you get on with that ˚ying.™ He swished round as if he was wearing a cape, but then swished back again: ‚And obviously don™t, er, tell anyone about The School, will you?™ 9781408884539_ KID NORMAL_4th Pass_Andrea.indd 1428/03/2017 17:121415‚I™m sorry,™ said the man again, gently extracting his huge bicep from her grasp. ‚Good evening to you.™ And he began to walk away. ‚He™s a boy with so much potential!™ shouted Murph™s mum after him. ‚With your help he could really – you could really help him ˜y!™The man stopped dead, and turned around. ‚Fly?™ he asked in a low voice. ‚Yes, ˜y. I really think that at the right school he – he could,™ she ˜nished rather lamely. ‚So, you™ve just moved to the area. And your son is – capable , you say?™ continued the man in a low voice. Murph™s mum nodded enthusiastically. ‚And is Murph, ah, ˜ying already?™ he asked, dropping his voice still further and glancing up and down the road. ‚Oh yes, he™s been doing ever so well,™ she replied, also lowering her voice to match his. ‚He really wouldn™t let you down.™ ‚He™s actually ˚ying?™ the man whispered. The questioning was getting a little weird now, as well as dif˜cult to hear. Murph was busily occupying himself with how he could get the ground to open up and swallow him. He™d seen some of his test results and it was a bit of a stretch to describe his performance so far as ˚ying. But his mum seemed to scent victory. ‚He is, he really is.™ ‚Mr Drench, would you come over here for a moment?™ called the man softly, and another, smaller ˜gure Murph hadn™t noticed before came scurrying across the road. He was shorter and thinner than the other teacher, and had keen, darting eyes behind round glasses. ‚Flying already, is he?™ he asked in a nasal voice as he walked up to them, although Murph wondered how on earth he could have possibly heard them talking. ‚This is my sidekiŒ er, that is to say Œ my assistant, Mr Drench,™ explained the first man. ‚He™ll take your details.™ He turned to Murph and held out a hand. When Murph took it, it felt like his own hand was being slowly crushed by tractor wheels. ‚Murph, we™ll see you on Monday. I look forward to seeing how you get on with that ˚ying.™ He swished round as if he was wearing a cape, but then swished back again: ‚And obviously don™t, er, tell anyone about The School, will you?™ 9781408884539_ KID NORMAL_4th Pass_Andrea.indd 1528/03/2017 17:121617‚What, we can™t tell anyone? Because it™s a secret school?™ Murph™s mum laughed at her own joke. The two men looked confused for a moment, and then, nervously, the hugely muscled man began to laugh as well. ‚Haha, yes, of course I don™t need to tell you. Silly of me.™ The smaller man looked between them in confusion as they continued chuckling. Murph just smiled nervously and wished he was invisible. Murph™s mum and the unusual teacher laughed for slightly longer than necessary. Then an awkward silence fell. ‚So, is it secret, then?™ she asked with a nervous grin. ‚Oh yes,™ replied the man, swirling round once again. ‚Until Monday, then,™ he called over his shoulder as he marched away. Murph and his mum caught each other™s eye in total bemusement. Then she shrugged and turned to Mr Drench, who had pulled a selection of forms from one of his pockets. 3Mumbarrassment Murph had a tingling feeling in his stomach. It had started mid- morning on Saturday and had grown steadily throughout Saturday night. When he woke up on Sunday morning it felt like there was a fairly large collection of baby eels migrating through his insides. And by Sunday evening he couldn™t sit still without feeling sick with worry, so he paced up and down in the new house™s tiny garden. His brother had been no help at all. When they had relayed the weird ‚secret school™ conversation to him, he™d found it hilarious. ‚Ooh, do you have to get on a magical steam train at a hidden platform?™ he™d hooted as he ran up the stairs after Murph, who was trying to escape to his room. ‚Will you have to go to a special shop to choose a wand?™ ‚Shut up,™ hissed Murph between gritted teeth, 9781408884539_ KID NORMAL_4th Pass_Andrea.indd 1628/03/2017 17:121617‚What, we can™t tell anyone? Because it™s a secret school?™ Murph™s mum laughed at her own joke. The two men looked confused for a moment, and then, nervously, the hugely muscled man began to laugh as well. ‚Haha, yes, of course I don™t need to tell you. Silly of me.™ The smaller man looked between them in confusion as they continued chuckling. Murph just smiled nervously and wished he was invisible. Murph™s mum and the unusual teacher laughed for slightly longer than necessary. Then an awkward silence fell. ‚So, is it secret, then?™ she asked with a nervous grin. ‚Oh yes,™ replied the man, swirling round once again. ‚Until Monday, then,™ he called over his shoulder as he marched away. Murph and his mum caught each other™s eye in total bemusement. Then she shrugged and turned to Mr Drench, who had pulled a selection of forms from one of his pockets. 3Mumbarrassment Murph had a tingling feeling in his stomach. It had started mid- morning on Saturday and had grown steadily throughout Saturday night. When he woke up on Sunday morning it felt like there was a fairly large collection of baby eels migrating through his insides. And by Sunday evening he couldn™t sit still without feeling sick with worry, so he paced up and down in the new house™s tiny garden. His brother had been no help at all. When they had relayed the weird ‚secret school™ conversation to him, he™d found it hilarious. ‚Ooh, do you have to get on a magical steam train at a hidden platform?™ he™d hooted as he ran up the stairs after Murph, who was trying to escape to his room. ‚Will you have to go to a special shop to choose a wand?™ ‚Shut up,™ hissed Murph between gritted teeth, 9781408884539_ KID NORMAL_4th Pass_Andrea.indd 1728/03/2017 17:121819closing the door on Andy™s foot and trying to keep it shut with his shoulder. A muf˚ed cry of ‚Hope you™re not hiding an owl in there!™ could be heard as Murph ˜nally managed to lock his door and collapsed on to his bed. Andy had enjoyed the joke right through the weekend. But now it was Monday morning, and Murph™s mum had woken him up so early that he felt as if he should be shaking a few larks awake on his way down to breakfast. Andy was old enough to get the bus to college on his own, so he was still lolling in bed, listening to the radio. Murph™s sleepy stomach was in no mood for toast, and his sleepy hair was in no mood to be brushed, but nevertheless, by the time most of us are just about thinking of doing a really good morning wee, Murph was already being hustled towards the car. You see, Murph was one of those kids who have to get dropped off ridiculously early. His mum™s shift at the hospital started at nine o™clock, a long drive away across town. It had always been the same. For years now his weekdays had started with hanging around school alone like a knowledge- hungry spectre. Actually, Murph had come to quite enjoy seeing the inner workings of it all, before the kids came and broke the silence. He liked watching the milk get delivered; he enjoyed chatting to the cleaners; he liked seeing his teachers arrive in various states of readiness for school. It was like being backstage at a theatre before the curtain went up, the only difference being that once the play ˜nally got going, there was no one to sell ice creams during the interval Œ or ‚break™, as they insisted on calling it. Murph would have loved an ice cream at 11 a.m. But we™re getting distracted. ‚Go on, then,™ Murph™s mum encouraged him as she pulled up outside The School. She leaned over and opened his door. ‚Be brave!™ Murph gave her a resigned look, swung his bag over his shoulder and jumped out of the car. As his mum drove off round the corner she beeped the car horn. This is classic mum embarrassment, or to use the technical term, mumbarrassment .Other acts of mumbarrassment include: 9781408884539_ KID NORMAL_4th Pass_Andrea.indd 1828/03/2017 17:121819closing the door on Andy™s foot and trying to keep it shut with his shoulder. A muf˚ed cry of ‚Hope you™re not hiding an owl in there!™ could be heard as Murph ˜nally managed to lock his door and collapsed on to his bed. Andy had enjoyed the joke right through the weekend. But now it was Monday morning, and Murph™s mum had woken him up so early that he felt as if he should be shaking a few larks awake on his way down to breakfast. Andy was old enough to get the bus to college on his own, so he was still lolling in bed, listening to the radio. Murph™s sleepy stomach was in no mood for toast, and his sleepy hair was in no mood to be brushed, but nevertheless, by the time most of us are just about thinking of doing a really good morning wee, Murph was already being hustled towards the car. You see, Murph was one of those kids who have to get dropped off ridiculously early. His mum™s shift at the hospital started at nine o™clock, a long drive away across town. It had always been the same. For years now his weekdays had started with hanging around school alone like a knowledge- hungry spectre. Actually, Murph had come to quite enjoy seeing the inner workings of it all, before the kids came and broke the silence. He liked watching the milk get delivered; he enjoyed chatting to the cleaners; he liked seeing his teachers arrive in various states of readiness for school. It was like being backstage at a theatre before the curtain went up, the only difference being that once the play ˜nally got going, there was no one to sell ice creams during the interval Œ or ‚break™, as they insisted on calling it. Murph would have loved an ice cream at 11 a.m. But we™re getting distracted. ‚Go on, then,™ Murph™s mum encouraged him as she pulled up outside The School. She leaned over and opened his door. ‚Be brave!™ Murph gave her a resigned look, swung his bag over his shoulder and jumped out of the car. As his mum drove off round the corner she beeped the car horn. This is classic mum embarrassment, or to use the technical term, mumbarrassment .Other acts of mumbarrassment include: 9781408884539_ KID NORMAL_4th Pass_Andrea.indd 1928/03/2017 17:122021After what seemed to be the world™s longest beep, Murph threw his mum a half smile, half ‚please stop beeping™ face, waved meekly and hefted his bag on to his shoulder to begin what was to become the single most bizarre day of his life so far. The school gates were open, but there didn™t seem to be anybody around. Murph wandered across the yard and through the open front doors, calling out ‚Hello?™ in a tiny ˜rst- day-at- school voice. But there was no reply. Just inside, Murph found a scratched wooden desk with an ancient- looking computer on top. He decided to settle down on the uncomfortable plastic chair behind the desk to wait for whatever happened next. At Murph™s last school there had always been plenty of activity as the ˜rst bell loomed closer. Parents chatting, kids rushing around, cars double- parking or getting chased off the zigzags by the unusually ˜erce lollipop man. But here everything seemed to be much quieter. He watched kids walking calmly across to the gates, and spotted a dad dropping his daughter off in a very sleek black car. Two much older boys sauntered past him, and he thought they must have smuggled a ˜rework in, because there was a loud bang just as they rounded the corner. ‚Nice Cape, Howard!™ he heard one of them say, and they both laughed. ™- Kissing you goodbye in front of your friends - Calling you by your baby nickname in front of your friends (Murph™s was ‚Honeyhugs™. When his mum had used it in public two schools ago, he™d actually been glad he was about to move house again) - Telling you to ‚stop showing off™ in front of your friends - Asking if you have a girlfriend/boyfriend in front of your friends - Asking if you have a girlfriend/boyfriend in front of the girl/boy you want to be your girlfriend/boyfriend - Singing loudly in public - Cleaning your face by licking a finger - Asking if you have a handkerchief, as if you were a Victorian waif 9781408884539_ KID NORMAL_4th Pass_Andrea.indd 2028/03/2017 17:122021After what seemed to be the world™s longest beep, Murph threw his mum a half smile, half ‚please stop beeping™ face, waved meekly and hefted his bag on to his shoulder to begin what was to become the single most bizarre day of his life so far. The school gates were open, but there didn™t seem to be anybody around. Murph wandered across the yard and through the open front doors, calling out ‚Hello?™ in a tiny ˜rst- day-at- school voice. But there was no reply. Just inside, Murph found a scratched wooden desk with an ancient- looking computer on top. He decided to settle down on the uncomfortable plastic chair behind the desk to wait for whatever happened next. At Murph™s last school there had always been plenty of activity as the ˜rst bell loomed closer. Parents chatting, kids rushing around, cars double- parking or getting chased off the zigzags by the unusually ˜erce lollipop man. But here everything seemed to be much quieter. He watched kids walking calmly across to the gates, and spotted a dad dropping his daughter off in a very sleek black car. Two much older boys sauntered past him, and he thought they must have smuggled a ˜rework in, because there was a loud bang just as they rounded the corner. ‚Nice Cape, Howard!™ he heard one of them say, and they both laughed. - Kissing you goodbye in front of your friends - Calling you by your baby nickname in front of your friends (Murph™s was ‚Honeyhugs™. When his mum had used it in public two schools ago, he™d actually been glad he was about to move house again) - Telling you to ‚stop showing off™ in front of your friends - Asking if you have a girlfriend/boyfriend in front of your friends - Asking if you have a girlfriend/boyfriend in front of the girl/boy you want to be your girlfriend/boyfriend - Singing loudly in public - Cleaning your face by licking a finger - Asking if you have a handkerchief, as if you were a Victorian waif 9781408884539_ KID NORMAL_4th Pass_Andrea.indd 2128/03/2017 17:122223 Neither of them was wearing a cape, but that still didn™t make it funny as far as Murph was concerned. The only thing that seemed different for a while was that everyone seemed to be heading into school rather quickly and quietly. It was all very organised, even without a lollipop operative, or ‚lollipoperative™, to keep things in order. But as the start of the school day drew nearer, things did begin to cross the line into weird. In fact, they leaped way over the line and came closer to ‚What the cheese and pickle salad is going on here?™ While he waited for someone to come and tell him what to do, Murph gazed out of the window. It was a grey, rainy day, but suddenly, a bright yellow ˜gure underneath an umbrella appeared out of the low- hanging clouds and drifted rapidly down and out of sight behind one of the school buildings. Murph couldn™t believe his eyes. Was he tired? Was he hallucinating? Was he going mad? Maybe it was a giant canary , he thought. He quickly rationalised this idea away, remembering that giant canaries aren™t a thing (but wishing brie˚y that they were), and then tried to work out what had just happened. He had to ˜nd out what this lemon- coloured thing was. He got up from his desk and dashed out, following the trajectory of the giant canary Œ or the thing that couldn™t possibly be a giant canary, not least because of the umbrella. He turned to the left, traced the direction of the figure in the sky and raced towards the playing ˜elds. Next to a side door marked Cloakroom , he saw a yellow ˜gure ˚icking water off its arms and doing that openy- shutty thing that has no name, which you use to make umbrellas dry. In fact, let™s give that thing a name right now. From a shortlist of three Œ flofting , blatting and Œ we have selected the word and we hope you like it. The ˜gure was an umbrella vigorously. Murph approached at speed as the ˜gure slipped into the cloakroom. Just as the door was closing, he twisted his body to try and slip inside unnoticed. But instead 9781408884539_ KID NORMAL_4th Pass_Andrea.indd 2228/03/2017 17:122223 Neither of them was wearing a cape, but that still didn™t make it funny as far as Murph was concerned. The only thing that seemed different for a while was that everyone seemed to be heading into school rather quickly and quietly. It was all very organised, even without a lollipop operative, or ‚lollipoperative™, to keep things in order. But as the start of the school day drew nearer, things did begin to cross the line into weird. In fact, they leaped way over the line and came closer to ‚What the cheese and pickle salad is going on here?™ While he waited for someone to come and tell him what to do, Murph gazed out of the window. It was a grey, rainy day, but suddenly, a bright yellow ˜gure underneath an umbrella appeared out of the low- hanging clouds and drifted rapidly down and out of sight behind one of the school buildings. Murph couldn™t believe his eyes. Was he tired? Was he hallucinating? Was he going mad? Maybe it was a giant canary , he thought. He quickly rationalised this idea away, remembering that giant canaries aren™t a thing (but wishing brie˚y that they were), and then tried to work out what had just happened. He had to ˜nd out what this lemon- coloured thing was. He got up from his desk and dashed out, following the trajectory of the giant canary Œ or the thing that couldn™t possibly be a giant canary, not least because of the umbrella. He turned to the left, traced the direction of the figure in the sky and raced towards the playing ˜elds. Next to a side door marked Cloakroom , he saw a yellow ˜gure ˚icking water off its arms and doing that openy- shutty thing that has no name, which you use to make umbrellas dry. In fact, let™s give that thing a name right now. From a shortlist of three Œ flofting , blatting and Œ we have selected the word and we hope you like it. The ˜gure was an umbrella vigorously. Murph approached at speed as the ˜gure slipped into the cloakroom. Just as the door was closing, he twisted his body to try and slip inside unnoticed. But instead 9781408884539_ KID NORMAL_4th Pass_Andrea.indd 2328/03/2017 17:122425he skidded on the wet floor, careered inside like an ice- skating rhino and collided with a wall of damp yellow. As he scrambled to his feet, he was relieved Œ mostly Œ to ˜nd that the ˜gure he™d seen ˚umphing the yellow umbrella wasn™t a giant canary but a very normal- looking, bespectacled girl. ‚Sorry! Hello! Urm, did you, ˚y – sorry, canary – boots – massive bird, it™s raining –™ Murph was panicking. He wasn™t great with girls at the best of times, especially when they had, quite literally, just ˚oated into his life. ‚Hello, clumsy,™ replied the girl, calmly taking off her glasses and doing that grown- up polishing thing on the end of her obviously yellow woollen scarf. ‚I™m Mary. Who are you?™ Murph was so shocked that an apparently occasionally airborne girl was making conversation with him that he momentarily forgot his own name. ‚MarŒ – Murph.™ ‚Well, Mar-Murph, lovely to meet you. Are you a ˜rst year too?™ This was the moment for a really world- class comeback. ‚Yes,™ Mar-Murph replied sheepishly. ‚OK, well, help me off with this coat and I™ll show you to our classroom,™ commanded Mary. Again, this seemed to Murph like a great cue for a devastatingly funny line. A real zinger. ‚OK,™ he said, helping umbrella canary girl gather up her belongings while approximately twenty- seven immediate questions buzzed unhelpfully round his head. 9781408884539_ KID NORMAL_4th Pass_Andrea.indd 2428/03/2017 17:122425he skidded on the wet floor, careered inside like an ice- skating rhino and collided with a wall of damp yellow. As he scrambled to his feet, he was relieved Œ mostly Œ to ˜nd that the ˜gure he™d seen ˚umphing the yellow umbrella wasn™t a giant canary but a very normal- looking, bespectacled girl. ‚Sorry! Hello! Urm, did you, ˚y – sorry, canary – boots – massive bird, it™s raining –™ Murph was panicking. He wasn™t great with girls at the best of times, especially when they had, quite literally, just ˚oated into his life. ‚Hello, clumsy,™ replied the girl, calmly taking off her glasses and doing that grown- up polishing thing on the end of her obviously yellow woollen scarf. ‚I™m Mary. Who are you?™ Murph was so shocked that an apparently occasionally airborne girl was making conversation with him that he momentarily forgot his own name. ‚MarŒ – Murph.™ ‚Well, Mar-Murph, lovely to meet you. Are you a ˜rst year too?™ This was the moment for a really world- class comeback. ‚Yes,™ Mar-Murph replied sheepishly. ‚OK, well, help me off with this coat and I™ll show you to our classroom,™ commanded Mary. Again, this seemed to Murph like a great cue for a devastatingly funny line. A real zinger. ‚OK,™ he said, helping umbrella canary girl gather up her belongings while approximately twenty- seven immediate questions buzzed unhelpfully round his head. 9781408884539_ KID NORMAL_4th Pass_Andrea.indd 2528/03/2017 17:122627Murph picked out one of those questions as they zipped through the corridors. He thought he™d go for the big one ˜rst: ‚Erm, Mary – did you just come to school, you know – through the, er, through the actual air?™ ‚Yep,™ replied Mary, like it was the most normal thing in the world, ‚but let™s keep that between us two, shall we? I don™t think I™m really supposed to. But it™s quicker than walking, and I was late.™ ‚OK, cool, just checking,™ replied Murph breezily, trying desperately not to freak out. ‚Also –™ Murph had another question. ‚Are you called Mary because of Mary Poppins?™ ‚Who?™ replied Mary, looking confused. ‚Oh, nothing. Just thought, y™know, because of the umbrella sky thing –™ burbled Murph. ‚What are you burbling on about?™ said Mary, raising her eyebrows at him so they rose over the rims of her glasses like two hairy blonde suns. ‚Right, here we are. Follow me. This is Mr Flash™s classroom.™ ‚Mr – Flash ?™ Murph just had time to say before she bundled him through the door. 4CT To begin with, Murph was relieved to find that everything inside the classroom looked more or less normal. Two teachers were standing at the front of a class of kids all noisily settling into chairs and dumping their bags under desks. One was the chiselled- chinned teacher he™d met at the school gates. He greeted Murph with a very hearty ‚Ah, good morning to our new arrival!™ and began moving towards him, holding out an upraised palm as if introducing a minor celebrity. Mary looked impressed. ‚How do you know Mr Souperman?™ she asked Murph. ‚Mr – Super what ?™Mary shot him another one of her looks. She did looks. ‚Boy, you really are new, aren™t you? Mr Souper- man™s the head teacher. I™ll save you a seat.™ She whisked off. 9781408884539_ KID NORMAL_4th Pass_Andrea.indd 2628/03/2017 17:12Bloomsbury Publishing, London, Oxford, New York, New Delhi and Sydney First published in Great Britain in July 2017 by Bloomsbury Publishing Plc 50 Bedford Square, London WC1B 3DP www.bloomsbury.com BLOOMSBURY is a registered trademark of Bloomsbury Publishing Plc Text copyright © Greg Milward and Chris Smith 2017 Illustrations copyright © Erica Salcedo 2017 The moral rights of the authors and illustrator have been asserted Pages 110 Œ 111 Œ The Lion King joke (parody fair dealing/use) Œ THE LION KING ® is a registered trademark of Disney Enterprises, Inc. The Lion King characters copyright © 1994 the Walt Disney Company Pages 112 Œ 113 Œ Frozen joke (parody fair dealing/use) Œ FROZEN ® is a registered trade mark of Disney Enterprises Inc. Princess Elsa and other Disney Frozen characters © 2013 the Walt Disney Company All rights reserved No part of this publication may be reproduced or transmitted by any means, electronic, mechanical, photocopying or otherwise, without the prior permission of the publisher A CIP catalogue record for this book is available from the British Library ISBN 978 1 4088 8453 9 Typeset by Re˜neCatch Limited, Bungay, Suffolk Printed and bound in Great Britain by CPI Group ( UK) Ltd, Croydon CR0 4 YY1 3 5 7 9 10 8 6 4 2 To LJ Œ Chris To Kid Normals everywhere. Always say yes to an adventure Œ Greg 9781408884539_ KID NORMAL_4th Pass_Andrea.indd 428/03/2017 17:12'"
      ]
     },
     "execution_count": 13,
     "metadata": {
      "tags": []
     },
     "output_type": "execute_result"
    }
   ],
   "source": [
    "text"
   ]
  },
  {
   "cell_type": "code",
   "execution_count": 14,
   "metadata": {
    "colab": {
     "base_uri": "https://localhost:8080/",
     "height": 171
    },
    "executionInfo": {
     "elapsed": 144709,
     "status": "ok",
     "timestamp": 1613643913977,
     "user": {
      "displayName": "Krishnendu Patra",
      "photoUrl": "https://lh3.googleusercontent.com/a-/AOh14Gi13xl22ySvhwDKo8rdt_y1PTgvODOn9MUUHRMRxa0=s64",
      "userId": "00045366593128286919"
     },
     "user_tz": -330
    },
    "id": "5TMZ58Bey1-D",
    "outputId": "a39e8789-e3a4-4b58-d42e-d067c9418431"
   },
   "outputs": [
    {
     "data": {
      "application/vnd.google.colaboratory.intrinsic+json": {
       "type": "string"
      },
      "text/plain": [
       "\"11The New House Murph hated the new house more than he could remember hating anything, ever. A light wind, such as you often ˜nd at the beginning of a story, tousled his shaggy brown hair as he stood looking up at it. He was trying to work out, with all the power of his just- eleven-year- old brain, why it made him feel so incredibly rotten. The problem with the new house was – it was just so new. When Murph was smaller he'd lived in a much older house, with interesting wooden stairs that led to an interestingly dingy attic full of interesting boxes, and there was a garden with interesting trees to climb and interesting dens to build. It had been the sort of house adventures happen in Œ although, to be fair, they never actually had. But the potential was there. Now there was no chance those adventures would 9781408884539_ KID NORMAL_4th Pass_Andrea.indd 128/03/2017 17:1223ever happen. Four years ago, Murph, his mum and his brother had left that house behind when his mum's job had forced them all to move to a new town. That had been bad enough. But, just a year later, they'd had to move again. And then again. Then again. So here he was, a third of his lifetime away from the rambling old rooms he'd loved so much, staring at yet another new house and wishing someone would blow it up or set ˜re to it. Which, in fact, they would. But he didn't know that just yet. Even if Murph had known that the new house would be a smoking ruin within a few short months, it wouldn't have cheered him up very much. Underneath a brownish drizzly evening sky that matched his mood perfectly, he heaved cardboard boxes into the box- like house and dumped them in the echoing hall, which was painted a pale shade of green almost exactly matching the colour of cat sick. Murph's new bedroom was painted a different but equally horrible green colour, like an avocado that had gone out of fashion. It was a prime candidate for the Most Depressing Room in the Rubbish New House Award, and it was up against some stiff competition. It had nothing in it except a mattress on the ˚oor and a set of white drawers. Had it been daytime, the curtain- less window would have offered a view of the oily canal at the back of the house, and a brick wall on the other side. Murph was glad it was dark. With a sigh, he unzipped his bag and started to unpack, bunging jeans and T-shirts into the drawers more or less at random. Eventually he came to the last four items in the bag, but instead of putting them away, Murph laid them out on the bare mattress and sat down cross- legged on the ˚oor to look at them. They were four grey shirts Œ the shirts he'd worn on his last day at his last four schools. The ˜rst was covered with signatures in felt tip: it had been a tradition there that if someone was leaving, everyone got to write a farewell message. We'll miss you, buddy, from Max Stay in touch, superstar! Sam Don't leave us, Mighty Murph! Lucas There were other signatures and messages too, covering most of the grey material with cheerful, multi- coloured letters. 9781408884539_ KID NORMAL_4th Pass_Andrea.indd 228/03/2017 17:1223ever happen. Four years ago, Murph, his mum and his brother had left that house behind when his mum's job had forced them all to move to a new town. That had been bad enough. But, just a year later, they'd had to move again. And then again. Then again. So here he was, a third of his lifetime away from the rambling old rooms he'd loved so much, staring at yet another new house and wishing someone would blow it up or set ˜re to it. Which, in fact, they would. But he didn't know that just yet. Even if Murph had known that the new house would be a smoking ruin within a few short months, it wouldn't have cheered him up very much. Underneath a brownish drizzly evening sky that matched his mood perfectly, he heaved cardboard boxes into the box- like house and dumped them in the echoing hall, which was painted a pale shade of green almost exactly matching the colour of cat sick. Murph's new bedroom was painted a different but equally horrible green colour, like an avocado that had gone out of fashion. It was a prime candidate for the Most Depressing Room in the Rubbish New House Award, and it was up against some stiff competition. It had nothing in it except a mattress on the ˚oor and a set of white drawers. Had it been daytime, the curtain- less window would have offered a view of the oily canal at the back of the house, and a brick wall on the other side. Murph was glad it was dark. With a sigh, he unzipped his bag and started to unpack, bunging jeans and T-shirts into the drawers more or less at random. Eventually he came to the last four items in the bag, but instead of putting them away, Murph laid them out on the bare mattress and sat down cross- legged on the ˚oor to look at them. They were four grey shirts Œ the shirts he'd worn on his last day at his last four schools. The ˜rst was covered with signatures in felt tip: it had been a tradition there that if someone was leaving, everyone got to write a farewell message. We'll miss you, buddy, from Max Stay in touch, superstar! Sam Don't leave us, Mighty Murph! Lucas There were other signatures and messages too, covering most of the grey material with cheerful, multi- coloured letters. 9781408884539_ KID NORMAL_4th Pass_Andrea.indd 328/03/2017 17:1245Don't leave us! But he'd had to leave Œ all because of his mum's job. And he'd meant to stay in touch Œ but he'd been busy that following year, making new friends to replace the ones he'd had to abandon. He picked up the second shirt and read the names of those new friends. Not so many names on this second shirt, but still some kind words. Can't believe you're moving after just a year! Love, Pia Murph! We'll miss you. Come back soon, mate. Tom Shirt number three had only a couple of names written in biro as a last- minute thought; he'd wanted some kind of memory to cling on to. The fourth shirt was clean and unmarked. Murph folded the shirts back up and piled them into the bottom drawer of the white cabinet. He'd made no friends in the last year. He'd been convinced, and rightly so, that one day soon his mum would break it to him over dinner that they were going to have to move again. Other people had become like TV programmes to Murph. There was no point getting too involved, because you never knew when someone was going to come along and change the channel. As you'll know if you've ever moved house, the First Night Takeaway is a very important ritual. And like every family that's ever moved into a new home, Murph, his brother, Andy, and his mum sat down to eat takeaway that night with a weird feeling that they were in someone else's home, and someone really needed to turn up the heating. They ate out of the silver foil containers because his mum couldn't ˜nd the box with the plates in. Murph knew exactly which one it was, but he was too busy stopping his older brother stealing his prawn crackers. ‚Those are mine, you big lump!' he shouted as Andy reached across like a greedy octopus and pulled out a greasy ˜stful. ‚You don't need a whole bag to yourself, Smurph Face!' the big sixteen- year-old lump replied. ‚Yes, I do,' spluttered Murph, cracker debris fountain -ing out of his mouth like the end of one of those big 9781408884539_ KID NORMAL_4th Pass_Andrea.indd 428/03/2017 17:1245Don't leave us! But he'd had to leave Œ all because of his mum's job. And he'd meant to stay in touch Œ but he'd been busy that following year, making new friends to replace the ones he'd had to abandon. He picked up the second shirt and read the names of those new friends. Not so many names on this second shirt, but still some kind words. Can't believe you're moving after just a year! Love, Pia Murph! We'll miss you. Come back soon, mate. Tom Shirt number three had only a couple of names written in biro as a last- minute thought; he'd wanted some kind of memory to cling on to. The fourth shirt was clean and unmarked. Murph folded the shirts back up and piled them into the bottom drawer of the white cabinet. He'd made no friends in the last year. He'd been convinced, and rightly so, that one day soon his mum would break it to him over dinner that they were going to have to move again. Other people had become like TV programmes to Murph. There was no point getting too involved, because you never knew when someone was going to come along and change the channel. As you'll know if you've ever moved house, the First Night Takeaway is a very important ritual. And like every family that's ever moved into a new home, Murph, his brother, Andy, and his mum sat down to eat takeaway that night with a weird feeling that they were in someone else's home, and someone really needed to turn up the heating. They ate out of the silver foil containers because his mum couldn't ˜nd the box with the plates in. Murph knew exactly which one it was, but he was too busy stopping his older brother stealing his prawn crackers. ‚Those are mine, you big lump!' he shouted as Andy reached across like a greedy octopus and pulled out a greasy ˜stful. ‚You don't need a whole bag to yourself, Smurph Face!' the big sixteen- year-old lump replied. ‚Yes, I do,' spluttered Murph, cracker debris fountain -ing out of his mouth like the end of one of those big 9781408884539_ KID NORMAL_4th Pass_Andrea.indd 528/03/2017 17:1267impressive ˜reworks, only prawn- scented. ‚And don't call me Smurph Face. You know I don't like it.' ‚Sorry, Smurph Face,' said Andy proudly, with the air of someone who'd just said something incredibly clever. ‚Come on, you two,' sighed their mum. ‚Andy, don't call your brother Smurph Face. And, Smurph Face, share your prawn crackers.' ‚MUM !' shouted Smurph FaŒ sorry Œ Murph . The others chuckled, and he reluctantly joined in: ‚You're ganging up on me. As if it wasn't bad enough getting dragged to nowheresville to live in a shoebox. I am not a shoe!' His mum put a comforting hand on his cheek. ‚I know you're not a shoe. And I know you didn't want to move again.' Murph watched as she tilted her head back, apparently to fend off a couple of mum- style tears. She didn't want to come and live here either, he thought to himself. ‚I know it's going to take a while to settle in,' Murph's mum told them both, ‚but just you wait, boys. You'll have a great time in the end, I promise. We're going to make the best of things here. It's going to be –' She paused, searching for the right word, and though Murph didn't realise it at the time, she found the perfect one. ‚It's going to be – super .'9781408884539_ KID NORMAL_4th Pass_Andrea.indd 628/03/2017 17:1267impressive ˜reworks, only prawn- scented. ‚And don't call me Smurph Face. You know I don't like it.' ‚Sorry, Smurph Face,' said Andy proudly, with the air of someone who'd just said something incredibly clever. ‚Come on, you two,' sighed their mum. ‚Andy, don't call your brother Smurph Face. And, Smurph Face, share your prawn crackers.' ‚MUM !' shouted Smurph FaŒ sorry Œ Murph . The others chuckled, and he reluctantly joined in: ‚You're ganging up on me. As if it wasn't bad enough getting dragged to nowheresville to live in a shoebox. I am not a shoe!' His mum put a comforting hand on his cheek. ‚I know you're not a shoe. And I know you didn't want to move again.' Murph watched as she tilted her head back, apparently to fend off a couple of mum- style tears. She didn't want to come and live here either, he thought to himself. ‚I know it's going to take a while to settle in,' Murph's mum told them both, ‚but just you wait, boys. You'll have a great time in the end, I promise. We're going to make the best of things here. It's going to be –' She paused, searching for the right word, and though Murph didn't realise it at the time, she found the perfect one. ‚It's going to be – super .'9781408884539_ KID NORMAL_4th Pass_Andrea.indd 728/03/2017 17:12892A Misunderstanding There were a lot of things Murph and his family didn't know about the new town. But the most important thing they didn't know was where Murph was going to go to school. His mum had tried to sort it out before they arrived, but everywhere seemed to be full, and as the hot days of August drew on, she became more and more obsessed with finding him a place. She spent all evening on her laptop, chatting to other parents and trying to get tips. She even started accosting random mums and dads in the town and asking them where their children went to school, and whether any of their friends were thinking of emigrating. Murph was morti˜ed. Andy, who was ˜ve years older, had a place at a local college and thought it was hilarious. ‚Maybe you can teach yourself at home,' he teased him. ‚We'll get you a few books and you can set a timer telling you when you can take a break.' Murph didn't think that was funny at the time Œ and he thought it was even less funny when August rolled round into September and Andy went off to college. ‚Still no school for you, little bro, sorry,' he said, ruffling Murph's hair as he headed out the door. It was just about the worst week so far. Murph tagged after his mum as she went for meetings at every secondary school in town. Curious faces watched him as he tailed her past packed classrooms and into the of˜ces of different head teachers. He sat quietly and, as instructed, tried to look unusually clever. But every time the answer was the same: they would just have to wait. Then, a few days into this head- meltingly depressing process, Murph and his mum were on their way home from the shops. The streets were fairly empty; most people were inside having their tea. A woman and a boy only a little older than Murph turned out of a dingy- looking side street not far ahead, and they overheard her saying, ‚So, how was school?' 9781408884539_ KID NORMAL_4th Pass_Andrea.indd 828/03/2017 17:12892A Misunderstanding There were a lot of things Murph and his family didn't know about the new town. But the most important thing they didn't know was where Murph was going to go to school. His mum had tried to sort it out before they arrived, but everywhere seemed to be full, and as the hot days of August drew on, she became more and more obsessed with finding him a place. She spent all evening on her laptop, chatting to other parents and trying to get tips. She even started accosting random mums and dads in the town and asking them where their children went to school, and whether any of their friends were thinking of emigrating. Murph was morti˜ed. Andy, who was ˜ve years older, had a place at a local college and thought it was hilarious. ‚Maybe you can teach yourself at home,' he teased him. ‚We'll get you a few books and you can set a timer telling you when you can take a break.' Murph didn't think that was funny at the time Œ and he thought it was even less funny when August rolled round into September and Andy went off to college. ‚Still no school for you, little bro, sorry,' he said, ruffling Murph's hair as he headed out the door. It was just about the worst week so far. Murph tagged after his mum as she went for meetings at every secondary school in town. Curious faces watched him as he tailed her past packed classrooms and into the of˜ces of different head teachers. He sat quietly and, as instructed, tried to look unusually clever. But every time the answer was the same: they would just have to wait. Then, a few days into this head- meltingly depressing process, Murph and his mum were on their way home from the shops. The streets were fairly empty; most people were inside having their tea. A woman and a boy only a little older than Murph turned out of a dingy- looking side street not far ahead, and they overheard her saying, ‚So, how was school?' 9781408884539_ KID NORMAL_4th Pass_Andrea.indd 928/03/2017 17:121011Murph's mum, whose ears had developed a bat- like ability to home in on any word connected to education, sped up, gripping Murph's hand tightly. ‚Muuuuum, let go!' he pleaded. But looking up at her face he realised there was no point arguing Œ this was Mum on a mission. By the time they'd crossed the road, the other boy and his mother had already climbed into a car. For a moment Murph was worried his mum was going to spread- eagle herself on the bonnet to try and stop them leaving. But instead, she turned into the side road they'd come out of, still dragging Murph along behind her like a low- quality kite. If the street had looked dingy from a distance, close up it was positively murky. A few cars were parked on the scrubby grass verge, and the gardens in front of many of the grubby terraced houses were so scruffy, it looked like the wheelie bins were actually there to smarten them up a bit. But about halfway down the street was a large school. They knew it was a school because, apart from the railings and familiar- looking classroom buildings on the other side of the front yard, there was a metal sign over the gates that simply read: THE SCHOOL A man was in front of it with his back to them, locking the gates. Murph actually heard a loud clicking sound as his mum gritted her teeth with determination and began to cross the road. ‚Smarten yourself up,' she hissed at him so ˜ercely that he actually did try and iron the front of his T-shirt with his hands. Then she changed her tone completely and ˚uted ‚Excuse me!' in a voice that would have put even an unusually posh duchess to shame. The man slowly turned around. Murph's mum had started to say ‚Excuse me' again, but it turned into a kind of throat- clearing noise on the way out. He didn't look like a normal sort of teacher. He had very dark, shiny slicked- down hair with one large curl plastered in the middle of his forehead. He was wearing 9781408884539_ KID NORMAL_4th Pass_Andrea.indd 1028/03/2017 17:121011Murph's mum, whose ears had developed a bat- like ability to home in on any word connected to education, sped up, gripping Murph's hand tightly. ‚Muuuuum, let go!' he pleaded. But looking up at her face he realised there was no point arguing Œ this was Mum on a mission. By the time they'd crossed the road, the other boy and his mother had already climbed into a car. For a moment Murph was worried his mum was going to spread- eagle herself on the bonnet to try and stop them leaving. But instead, she turned into the side road they'd come out of, still dragging Murph along behind her like a low- quality kite. If the street had looked dingy from a distance, close up it was positively murky. A few cars were parked on the scrubby grass verge, and the gardens in front of many of the grubby terraced houses were so scruffy, it looked like the wheelie bins were actually there to smarten them up a bit. But about halfway down the street was a large school. They knew it was a school because, apart from the railings and familiar- looking classroom buildings on the other side of the front yard, there was a metal sign over the gates that simply read: THE SCHOOL A man was in front of it with his back to them, locking the gates. Murph actually heard a loud clicking sound as his mum gritted her teeth with determination and began to cross the road. ‚Smarten yourself up,' she hissed at him so ˜ercely that he actually did try and iron the front of his T-shirt with his hands. Then she changed her tone completely and ˚uted ‚Excuse me!' in a voice that would have put even an unusually posh duchess to shame. The man slowly turned around. Murph's mum had started to say ‚Excuse me' again, but it turned into a kind of throat- clearing noise on the way out. He didn't look like a normal sort of teacher. He had very dark, shiny slicked- down hair with one large curl plastered in the middle of his forehead. He was wearing 9781408884539_ KID NORMAL_4th Pass_Andrea.indd 1128/03/2017 17:1213a shabby- looking tweed jacket, but above the elbow patches his arms bulged with muscle. Behind thick- rimmed black glasses his eyes were bright blue. His jaw was so chiselled it looked like it had been carved out of wood. ‚Can I help you with something, ma'am?' asked the strange sort of teacher. Murph's mum ˜nally recovered her voice and asked, ‚This is a school, isn't it?' The man looked very much as if he'd like to say no, but then glanced up at the sign over his head. ‚Yeeeees,' he replied very slowly and not very encouragingly. ‚Oh, wonderful! You see, we've just moved here and I'm having terrible dif˜culty ˜nding a school for my son,' she began, draping an arm around Murph, ‚and Œ' The man cut her off. ‚I'm terribly sorry, ma'am; we're not going to be able to help you here. We're – we're not accepting applica -tions from the –' Œ he seemed to be searching for the right word Œ ‚from the – the – we're not accepting any children at the moment. I'm so sorry.' There followed a moment of silence, and Murph was sure his mum was about to give up. But suddenly she grabbed the teacher by his upper arm. She needed both hands to do it. ‚Please,' she breathed, ‚ please see what you can do. Murph's such a capable boy Œ he needs somewhere like your wonderful school to take him in.' 9781408884539_ KID NORMAL_4th Pass_Andrea.indd 1228/03/2017 17:1213a shabby- looking tweed jacket, but above the elbow patches his arms bulged with muscle. Behind thick- rimmed black glasses his eyes were bright blue. His jaw was so chiselled it looked like it had been carved out of wood. ‚Can I help you with something, ma'am?' asked the strange sort of teacher. Murph's mum ˜nally recovered her voice and asked, ‚This is a school, isn't it?' The man looked very much as if he'd like to say no, but then glanced up at the sign over his head. ‚Yeeeees,' he replied very slowly and not very encouragingly. ‚Oh, wonderful! You see, we've just moved here and I'm having terrible dif˜culty ˜nding a school for my son,' she began, draping an arm around Murph, ‚and Œ' The man cut her off. ‚I'm terribly sorry, ma'am; we're not going to be able to help you here. We're – we're not accepting applica -tions from the –' Œ he seemed to be searching for the right word Œ ‚from the – the – we're not accepting any children at the moment. I'm so sorry.' There followed a moment of silence, and Murph was sure his mum was about to give up. But suddenly she grabbed the teacher by his upper arm. She needed both hands to do it. ‚Please,' she breathed, ‚ please see what you can do. Murph's such a capable boy Œ he needs somewhere like your wonderful school to take him in.' 9781408884539_ KID NORMAL_4th Pass_Andrea.indd 1328/03/2017 17:121415‚I'm sorry,' said the man again, gently extracting his huge bicep from her grasp. ‚Good evening to you.' And he began to walk away. ‚He's a boy with so much potential!' shouted Murph's mum after him. ‚With your help he could really – you could really help him ˜y!'The man stopped dead, and turned around. ‚Fly?' he asked in a low voice. ‚Yes, ˜y. I really think that at the right school he – he could,' she ˜nished rather lamely. ‚So, you've just moved to the area. And your son is – capable , you say?' continued the man in a low voice. Murph's mum nodded enthusiastically. ‚And is Murph, ah, ˜ying already?' he asked, dropping his voice still further and glancing up and down the road. ‚Oh yes, he's been doing ever so well,' she replied, also lowering her voice to match his. ‚He really wouldn't let you down.' ‚He's actually ˚ying?' the man whispered. The questioning was getting a little weird now, as well as dif˜cult to hear. Murph was busily occupying himself with how he could get the ground to open up and swallow him. He'd seen some of his test results and it was a bit of a stretch to describe his performance so far as ˚ying. But his mum seemed to scent victory. ‚He is, he really is.' ‚Mr Drench, would you come over here for a moment?' called the man softly, and another, smaller ˜gure Murph hadn't noticed before came scurrying across the road. He was shorter and thinner than the other teacher, and had keen, darting eyes behind round glasses. ‚Flying already, is he?' he asked in a nasal voice as he walked up to them, although Murph wondered how on earth he could have possibly heard them talking. ‚This is my sidekiŒ er, that is to say Œ my assistant, Mr Drench,' explained the first man. ‚He'll take your details.' He turned to Murph and held out a hand. When Murph took it, it felt like his own hand was being slowly crushed by tractor wheels. ‚Murph, we'll see you on Monday. I look forward to seeing how you get on with that ˚ying.' He swished round as if he was wearing a cape, but then swished back again: ‚And obviously don't, er, tell anyone about The School, will you?' 9781408884539_ KID NORMAL_4th Pass_Andrea.indd 1428/03/2017 17:121415‚I'm sorry,' said the man again, gently extracting his huge bicep from her grasp. ‚Good evening to you.' And he began to walk away. ‚He's a boy with so much potential!' shouted Murph's mum after him. ‚With your help he could really – you could really help him ˜y!'The man stopped dead, and turned around. ‚Fly?' he asked in a low voice. ‚Yes, ˜y. I really think that at the right school he – he could,' she ˜nished rather lamely. ‚So, you've just moved to the area. And your son is – capable , you say?' continued the man in a low voice. Murph's mum nodded enthusiastically. ‚And is Murph, ah, ˜ying already?' he asked, dropping his voice still further and glancing up and down the road. ‚Oh yes, he's been doing ever so well,' she replied, also lowering her voice to match his. ‚He really wouldn't let you down.' ‚He's actually ˚ying?' the man whispered. The questioning was getting a little weird now, as well as dif˜cult to hear. Murph was busily occupying himself with how he could get the ground to open up and swallow him. He'd seen some of his test results and it was a bit of a stretch to describe his performance so far as ˚ying. But his mum seemed to scent victory. ‚He is, he really is.' ‚Mr Drench, would you come over here for a moment?' called the man softly, and another, smaller ˜gure Murph hadn't noticed before came scurrying across the road. He was shorter and thinner than the other teacher, and had keen, darting eyes behind round glasses. ‚Flying already, is he?' he asked in a nasal voice as he walked up to them, although Murph wondered how on earth he could have possibly heard them talking. ‚This is my sidekiŒ er, that is to say Œ my assistant, Mr Drench,' explained the first man. ‚He'll take your details.' He turned to Murph and held out a hand. When Murph took it, it felt like his own hand was being slowly crushed by tractor wheels. ‚Murph, we'll see you on Monday. I look forward to seeing how you get on with that ˚ying.' He swished round as if he was wearing a cape, but then swished back again: ‚And obviously don't, er, tell anyone about The School, will you?' 9781408884539_ KID NORMAL_4th Pass_Andrea.indd 1528/03/2017 17:121617‚What, we can't tell anyone? Because it's a secret school?' Murph's mum laughed at her own joke. The two men looked confused for a moment, and then, nervously, the hugely muscled man began to laugh as well. ‚Haha, yes, of course I don't need to tell you. Silly of me.' The smaller man looked between them in confusion as they continued chuckling. Murph just smiled nervously and wished he was invisible. Murph's mum and the unusual teacher laughed for slightly longer than necessary. Then an awkward silence fell. ‚So, is it secret, then?' she asked with a nervous grin. ‚Oh yes,' replied the man, swirling round once again. ‚Until Monday, then,' he called over his shoulder as he marched away. Murph and his mum caught each other's eye in total bemusement. Then she shrugged and turned to Mr Drench, who had pulled a selection of forms from one of his pockets. 3Mumbarrassment Murph had a tingling feeling in his stomach. It had started mid- morning on Saturday and had grown steadily throughout Saturday night. When he woke up on Sunday morning it felt like there was a fairly large collection of baby eels migrating through his insides. And by Sunday evening he couldn't sit still without feeling sick with worry, so he paced up and down in the new house's tiny garden. His brother had been no help at all. When they had relayed the weird ‚secret school' conversation to him, he'd found it hilarious. ‚Ooh, do you have to get on a magical steam train at a hidden platform?' he'd hooted as he ran up the stairs after Murph, who was trying to escape to his room. ‚Will you have to go to a special shop to choose a wand?' ‚Shut up,' hissed Murph between gritted teeth, 9781408884539_ KID NORMAL_4th Pass_Andrea.indd 1628/03/2017 17:121617‚What, we can't tell anyone? Because it's a secret school?' Murph's mum laughed at her own joke. The two men looked confused for a moment, and then, nervously, the hugely muscled man began to laugh as well. ‚Haha, yes, of course I don't need to tell you. Silly of me.' The smaller man looked between them in confusion as they continued chuckling. Murph just smiled nervously and wished he was invisible. Murph's mum and the unusual teacher laughed for slightly longer than necessary. Then an awkward silence fell. ‚So, is it secret, then?' she asked with a nervous grin. ‚Oh yes,' replied the man, swirling round once again. ‚Until Monday, then,' he called over his shoulder as he marched away. Murph and his mum caught each other's eye in total bemusement. Then she shrugged and turned to Mr Drench, who had pulled a selection of forms from one of his pockets. 3Mumbarrassment Murph had a tingling feeling in his stomach. It had started mid- morning on Saturday and had grown steadily throughout Saturday night. When he woke up on Sunday morning it felt like there was a fairly large collection of baby eels migrating through his insides. And by Sunday evening he couldn't sit still without feeling sick with worry, so he paced up and down in the new house's tiny garden. His brother had been no help at all. When they had relayed the weird ‚secret school' conversation to him, he'd found it hilarious. ‚Ooh, do you have to get on a magical steam train at a hidden platform?' he'd hooted as he ran up the stairs after Murph, who was trying to escape to his room. ‚Will you have to go to a special shop to choose a wand?' ‚Shut up,' hissed Murph between gritted teeth, 9781408884539_ KID NORMAL_4th Pass_Andrea.indd 1728/03/2017 17:121819closing the door on Andy's foot and trying to keep it shut with his shoulder. A muf˚ed cry of ‚Hope you're not hiding an owl in there!' could be heard as Murph ˜nally managed to lock his door and collapsed on to his bed. Andy had enjoyed the joke right through the weekend. But now it was Monday morning, and Murph's mum had woken him up so early that he felt as if he should be shaking a few larks awake on his way down to breakfast. Andy was old enough to get the bus to college on his own, so he was still lolling in bed, listening to the radio. Murph's sleepy stomach was in no mood for toast, and his sleepy hair was in no mood to be brushed, but nevertheless, by the time most of us are just about thinking of doing a really good morning wee, Murph was already being hustled towards the car. You see, Murph was one of those kids who have to get dropped off ridiculously early. His mum's shift at the hospital started at nine o'clock, a long drive away across town. It had always been the same. For years now his weekdays had started with hanging around school alone like a knowledge- hungry spectre. Actually, Murph had come to quite enjoy seeing the inner workings of it all, before the kids came and broke the silence. He liked watching the milk get delivered; he enjoyed chatting to the cleaners; he liked seeing his teachers arrive in various states of readiness for school. It was like being backstage at a theatre before the curtain went up, the only difference being that once the play ˜nally got going, there was no one to sell ice creams during the interval Œ or ‚break', as they insisted on calling it. Murph would have loved an ice cream at 11 a.m. But we're getting distracted. ‚Go on, then,' Murph's mum encouraged him as she pulled up outside The School. She leaned over and opened his door. ‚Be brave!' Murph gave her a resigned look, swung his bag over his shoulder and jumped out of the car. As his mum drove off round the corner she beeped the car horn. This is classic mum embarrassment, or to use the technical term, mumbarrassment .Other acts of mumbarrassment include: 9781408884539_ KID NORMAL_4th Pass_Andrea.indd 1828/03/2017 17:121819closing the door on Andy's foot and trying to keep it shut with his shoulder. A muf˚ed cry of ‚Hope you're not hiding an owl in there!' could be heard as Murph ˜nally managed to lock his door and collapsed on to his bed. Andy had enjoyed the joke right through the weekend. But now it was Monday morning, and Murph's mum had woken him up so early that he felt as if he should be shaking a few larks awake on his way down to breakfast. Andy was old enough to get the bus to college on his own, so he was still lolling in bed, listening to the radio. Murph's sleepy stomach was in no mood for toast, and his sleepy hair was in no mood to be brushed, but nevertheless, by the time most of us are just about thinking of doing a really good morning wee, Murph was already being hustled towards the car. You see, Murph was one of those kids who have to get dropped off ridiculously early. His mum's shift at the hospital started at nine o'clock, a long drive away across town. It had always been the same. For years now his weekdays had started with hanging around school alone like a knowledge- hungry spectre. Actually, Murph had come to quite enjoy seeing the inner workings of it all, before the kids came and broke the silence. He liked watching the milk get delivered; he enjoyed chatting to the cleaners; he liked seeing his teachers arrive in various states of readiness for school. It was like being backstage at a theatre before the curtain went up, the only difference being that once the play ˜nally got going, there was no one to sell ice creams during the interval Œ or ‚break', as they insisted on calling it. Murph would have loved an ice cream at 11 a.m. But we're getting distracted. ‚Go on, then,' Murph's mum encouraged him as she pulled up outside The School. She leaned over and opened his door. ‚Be brave!' Murph gave her a resigned look, swung his bag over his shoulder and jumped out of the car. As his mum drove off round the corner she beeped the car horn. This is classic mum embarrassment, or to use the technical term, mumbarrassment .Other acts of mumbarrassment include: 9781408884539_ KID NORMAL_4th Pass_Andrea.indd 1928/03/2017 17:122021After what seemed to be the world's longest beep, Murph threw his mum a half smile, half ‚please stop beeping' face, waved meekly and hefted his bag on to his shoulder to begin what was to become the single most bizarre day of his life so far. The school gates were open, but there didn't seem to be anybody around. Murph wandered across the yard and through the open front doors, calling out ‚Hello?' in a tiny ˜rst- day-at- school voice. But there was no reply. Just inside, Murph found a scratched wooden desk with an ancient- looking computer on top. He decided to settle down on the uncomfortable plastic chair behind the desk to wait for whatever happened next. At Murph's last school there had always been plenty of activity as the ˜rst bell loomed closer. Parents chatting, kids rushing around, cars double- parking or getting chased off the zigzags by the unusually ˜erce lollipop man. But here everything seemed to be much quieter. He watched kids walking calmly across to the gates, and spotted a dad dropping his daughter off in a very sleek black car. Two much older boys sauntered past him, and he thought they must have smuggled a ˜rework in, because there was a loud bang just as they rounded the corner. ‚Nice Cape, Howard!' he heard one of them say, and they both laughed. '- Kissing you goodbye in front of your friends - Calling you by your baby nickname in front of your friends (Murph's was ‚Honeyhugs'. When his mum had used it in public two schools ago, he'd actually been glad he was about to move house again) - Telling you to ‚stop showing off' in front of your friends - Asking if you have a girlfriend/boyfriend in front of your friends - Asking if you have a girlfriend/boyfriend in front of the girl/boy you want to be your girlfriend/boyfriend - Singing loudly in public - Cleaning your face by licking a finger - Asking if you have a handkerchief, as if you were a Victorian waif 9781408884539_ KID NORMAL_4th Pass_Andrea.indd 2028/03/2017 17:122021After what seemed to be the world's longest beep, Murph threw his mum a half smile, half ‚please stop beeping' face, waved meekly and hefted his bag on to his shoulder to begin what was to become the single most bizarre day of his life so far. The school gates were open, but there didn't seem to be anybody around. Murph wandered across the yard and through the open front doors, calling out ‚Hello?' in a tiny ˜rst- day-at- school voice. But there was no reply. Just inside, Murph found a scratched wooden desk with an ancient- looking computer on top. He decided to settle down on the uncomfortable plastic chair behind the desk to wait for whatever happened next. At Murph's last school there had always been plenty of activity as the ˜rst bell loomed closer. Parents chatting, kids rushing around, cars double- parking or getting chased off the zigzags by the unusually ˜erce lollipop man. But here everything seemed to be much quieter. He watched kids walking calmly across to the gates, and spotted a dad dropping his daughter off in a very sleek black car. Two much older boys sauntered past him, and he thought they must have smuggled a ˜rework in, because there was a loud bang just as they rounded the corner. ‚Nice Cape, Howard!' he heard one of them say, and they both laughed. - Kissing you goodbye in front of your friends - Calling you by your baby nickname in front of your friends (Murph's was ‚Honeyhugs'. When his mum had used it in public two schools ago, he'd actually been glad he was about to move house again) - Telling you to ‚stop showing off' in front of your friends - Asking if you have a girlfriend/boyfriend in front of your friends - Asking if you have a girlfriend/boyfriend in front of the girl/boy you want to be your girlfriend/boyfriend - Singing loudly in public - Cleaning your face by licking a finger - Asking if you have a handkerchief, as if you were a Victorian waif 9781408884539_ KID NORMAL_4th Pass_Andrea.indd 2128/03/2017 17:122223 Neither of them was wearing a cape, but that still didn't make it funny as far as Murph was concerned. The only thing that seemed different for a while was that everyone seemed to be heading into school rather quickly and quietly. It was all very organised, even without a lollipop operative, or ‚lollipoperative', to keep things in order. But as the start of the school day drew nearer, things did begin to cross the line into weird. In fact, they leaped way over the line and came closer to ‚What the cheese and pickle salad is going on here?' While he waited for someone to come and tell him what to do, Murph gazed out of the window. It was a grey, rainy day, but suddenly, a bright yellow ˜gure underneath an umbrella appeared out of the low- hanging clouds and drifted rapidly down and out of sight behind one of the school buildings. Murph couldn't believe his eyes. Was he tired? Was he hallucinating? Was he going mad? Maybe it was a giant canary , he thought. He quickly rationalised this idea away, remembering that giant canaries aren't a thing (but wishing brie˚y that they were), and then tried to work out what had just happened. He had to ˜nd out what this lemon- coloured thing was. He got up from his desk and dashed out, following the trajectory of the giant canary Œ or the thing that couldn't possibly be a giant canary, not least because of the umbrella. He turned to the left, traced the direction of the figure in the sky and raced towards the playing ˜elds. Next to a side door marked Cloakroom , he saw a yellow ˜gure ˚icking water off its arms and doing that openy- shutty thing that has no name, which you use to make umbrellas dry. In fact, let's give that thing a name right now. From a shortlist of three Œ flofting , blatting and Œ we have selected the word and we hope you like it. The ˜gure was an umbrella vigorously. Murph approached at speed as the ˜gure slipped into the cloakroom. Just as the door was closing, he twisted his body to try and slip inside unnoticed. But instead 9781408884539_ KID NORMAL_4th Pass_Andrea.indd 2228/03/2017 17:122223 Neither of them was wearing a cape, but that still didn't make it funny as far as Murph was concerned. The only thing that seemed different for a while was that everyone seemed to be heading into school rather quickly and quietly. It was all very organised, even without a lollipop operative, or ‚lollipoperative', to keep things in order. But as the start of the school day drew nearer, things did begin to cross the line into weird. In fact, they leaped way over the line and came closer to ‚What the cheese and pickle salad is going on here?' While he waited for someone to come and tell him what to do, Murph gazed out of the window. It was a grey, rainy day, but suddenly, a bright yellow ˜gure underneath an umbrella appeared out of the low- hanging clouds and drifted rapidly down and out of sight behind one of the school buildings. Murph couldn't believe his eyes. Was he tired? Was he hallucinating? Was he going mad? Maybe it was a giant canary , he thought. He quickly rationalised this idea away, remembering that giant canaries aren't a thing (but wishing brie˚y that they were), and then tried to work out what had just happened. He had to ˜nd out what this lemon- coloured thing was. He got up from his desk and dashed out, following the trajectory of the giant canary Œ or the thing that couldn't possibly be a giant canary, not least because of the umbrella. He turned to the left, traced the direction of the figure in the sky and raced towards the playing ˜elds. Next to a side door marked Cloakroom , he saw a yellow ˜gure ˚icking water off its arms and doing that openy- shutty thing that has no name, which you use to make umbrellas dry. In fact, let's give that thing a name right now. From a shortlist of three Œ flofting , blatting and Œ we have selected the word and we hope you like it. The ˜gure was an umbrella vigorously. Murph approached at speed as the ˜gure slipped into the cloakroom. Just as the door was closing, he twisted his body to try and slip inside unnoticed. But instead 9781408884539_ KID NORMAL_4th Pass_Andrea.indd 2328/03/2017 17:122425he skidded on the wet floor, careered inside like an ice- skating rhino and collided with a wall of damp yellow. As he scrambled to his feet, he was relieved Œ mostly Œ to ˜nd that the ˜gure he'd seen ˚umphing the yellow umbrella wasn't a giant canary but a very normal- looking, bespectacled girl. ‚Sorry! Hello! Urm, did you, ˚y – sorry, canary – boots – massive bird, it's raining –' Murph was panicking. He wasn't great with girls at the best of times, especially when they had, quite literally, just ˚oated into his life. ‚Hello, clumsy,' replied the girl, calmly taking off her glasses and doing that grown- up polishing thing on the end of her obviously yellow woollen scarf. ‚I'm Mary. Who are you?' Murph was so shocked that an apparently occasionally airborne girl was making conversation with him that he momentarily forgot his own name. ‚MarŒ – Murph.' ‚Well, Mar-Murph, lovely to meet you. Are you a ˜rst year too?' This was the moment for a really world- class comeback. ‚Yes,' Mar-Murph replied sheepishly. ‚OK, well, help me off with this coat and I'll show you to our classroom,' commanded Mary. Again, this seemed to Murph like a great cue for a devastatingly funny line. A real zinger. ‚OK,' he said, helping umbrella canary girl gather up her belongings while approximately twenty- seven immediate questions buzzed unhelpfully round his head. 9781408884539_ KID NORMAL_4th Pass_Andrea.indd 2428/03/2017 17:122425he skidded on the wet floor, careered inside like an ice- skating rhino and collided with a wall of damp yellow. As he scrambled to his feet, he was relieved Œ mostly Œ to ˜nd that the ˜gure he'd seen ˚umphing the yellow umbrella wasn't a giant canary but a very normal- looking, bespectacled girl. ‚Sorry! Hello! Urm, did you, ˚y – sorry, canary – boots – massive bird, it's raining –' Murph was panicking. He wasn't great with girls at the best of times, especially when they had, quite literally, just ˚oated into his life. ‚Hello, clumsy,' replied the girl, calmly taking off her glasses and doing that grown- up polishing thing on the end of her obviously yellow woollen scarf. ‚I'm Mary. Who are you?' Murph was so shocked that an apparently occasionally airborne girl was making conversation with him that he momentarily forgot his own name. ‚MarŒ – Murph.' ‚Well, Mar-Murph, lovely to meet you. Are you a ˜rst year too?' This was the moment for a really world- class comeback. ‚Yes,' Mar-Murph replied sheepishly. ‚OK, well, help me off with this coat and I'll show you to our classroom,' commanded Mary. Again, this seemed to Murph like a great cue for a devastatingly funny line. A real zinger. ‚OK,' he said, helping umbrella canary girl gather up her belongings while approximately twenty- seven immediate questions buzzed unhelpfully round his head. 9781408884539_ KID NORMAL_4th Pass_Andrea.indd 2528/03/2017 17:122627Murph picked out one of those questions as they zipped through the corridors. He thought he'd go for the big one ˜rst: ‚Erm, Mary – did you just come to school, you know – through the, er, through the actual air?' ‚Yep,' replied Mary, like it was the most normal thing in the world, ‚but let's keep that between us two, shall we? I don't think I'm really supposed to. But it's quicker than walking, and I was late.' ‚OK, cool, just checking,' replied Murph breezily, trying desperately not to freak out. ‚Also –' Murph had another question. ‚Are you called Mary because of Mary Poppins?' ‚Who?' replied Mary, looking confused. ‚Oh, nothing. Just thought, y'know, because of the umbrella sky thing –' burbled Murph. ‚What are you burbling on about?' said Mary, raising her eyebrows at him so they rose over the rims of her glasses like two hairy blonde suns. ‚Right, here we are. Follow me. This is Mr Flash's classroom.' ‚Mr – Flash ?' Murph just had time to say before she bundled him through the door. 4CT To begin with, Murph was relieved to find that everything inside the classroom looked more or less normal. Two teachers were standing at the front of a class of kids all noisily settling into chairs and dumping their bags under desks. One was the chiselled- chinned teacher he'd met at the school gates. He greeted Murph with a very hearty ‚Ah, good morning to our new arrival!' and began moving towards him, holding out an upraised palm as if introducing a minor celebrity. Mary looked impressed. ‚How do you know Mr Souperman?' she asked Murph. ‚Mr – Super what ?'Mary shot him another one of her looks. She did looks. ‚Boy, you really are new, aren't you? Mr Souper- man's the head teacher. I'll save you a seat.' She whisked off. 9781408884539_ KID NORMAL_4th Pass_Andrea.indd 2628/03/2017 17:12Bloomsbury Publishing, London, Oxford, New York, New Delhi and Sydney First published in Great Britain in July 2017 by Bloomsbury Publishing Plc 50 Bedford Square, London WC1B 3DP www.bloomsbury.com BLOOMSBURY is a registered trademark of Bloomsbury Publishing Plc Text copyright © Greg Milward and Chris Smith 2017 Illustrations copyright © Erica Salcedo 2017 The moral rights of the authors and illustrator have been asserted Pages 110 Œ 111 Œ The Lion King joke (parody fair dealing/use) Œ THE LION KING ® is a registered trademark of Disney Enterprises, Inc. The Lion King characters copyright © 1994 the Walt Disney Company Pages 112 Œ 113 Œ Frozen joke (parody fair dealing/use) Œ FROZEN ® is a registered trade mark of Disney Enterprises Inc. Princess Elsa and other Disney Frozen characters © 2013 the Walt Disney Company All rights reserved No part of this publication may be reproduced or transmitted by any means, electronic, mechanical, photocopying or otherwise, without the prior permission of the publisher A CIP catalogue record for this book is available from the British Library ISBN 978 1 4088 8453 9 Typeset by Re˜neCatch Limited, Bungay, Suffolk Printed and bound in Great Britain by CPI Group ( UK) Ltd, Croydon CR0 4 YY1 3 5 7 9 10 8 6 4 2 To LJ Œ Chris To Kid Normals everywhere. Always say yes to an adventure Œ Greg 9781408884539_ KID NORMAL_4th Pass_Andrea.indd 428/03/2017 17:12\""
      ]
     },
     "execution_count": 14,
     "metadata": {
      "tags": []
     },
     "output_type": "execute_result"
    }
   ],
   "source": [
    "text = text.replace(\"™\", \"'\")\n",
    "text"
   ]
  },
  {
   "cell_type": "code",
   "execution_count": 15,
   "metadata": {
    "colab": {
     "base_uri": "https://localhost:8080/"
    },
    "executionInfo": {
     "elapsed": 148607,
     "status": "ok",
     "timestamp": 1613643917886,
     "user": {
      "displayName": "Krishnendu Patra",
      "photoUrl": "https://lh3.googleusercontent.com/a-/AOh14Gi13xl22ySvhwDKo8rdt_y1PTgvODOn9MUUHRMRxa0=s64",
      "userId": "00045366593128286919"
     },
     "user_tz": -330
    },
    "id": "OlB3jSo7y4z_",
    "outputId": "4e8cc522-99f5-42c2-8cae-3c16f48bd629"
   },
   "outputs": [
    {
     "name": "stdout",
     "output_type": "stream",
     "text": [
      "Collecting autocorrect\n",
      "\u001b[?25l  Downloading https://files.pythonhosted.org/packages/16/a8/1fc332535fc26db807fa48bdb54070355b83a36c797451c3d563bc190fa8/autocorrect-2.3.0.tar.gz (621kB)\n",
      "\r",
      "\u001b[K     |▌                               | 10kB 17.4MB/s eta 0:00:01\r",
      "\u001b[K     |█                               | 20kB 14.6MB/s eta 0:00:01\r",
      "\u001b[K     |█▋                              | 30kB 9.3MB/s eta 0:00:01\r",
      "\u001b[K     |██                              | 40kB 7.6MB/s eta 0:00:01\r",
      "\u001b[K     |██▋                             | 51kB 4.3MB/s eta 0:00:01\r",
      "\u001b[K     |███▏                            | 61kB 5.0MB/s eta 0:00:01\r",
      "\u001b[K     |███▊                            | 71kB 5.0MB/s eta 0:00:01\r",
      "\u001b[K     |████▏                           | 81kB 5.2MB/s eta 0:00:01\r",
      "\u001b[K     |████▊                           | 92kB 5.7MB/s eta 0:00:01\r",
      "\u001b[K     |█████▎                          | 102kB 5.6MB/s eta 0:00:01\r",
      "\u001b[K     |█████▉                          | 112kB 5.6MB/s eta 0:00:01\r",
      "\u001b[K     |██████▎                         | 122kB 5.6MB/s eta 0:00:01\r",
      "\u001b[K     |██████▉                         | 133kB 5.6MB/s eta 0:00:01\r",
      "\u001b[K     |███████▍                        | 143kB 5.6MB/s eta 0:00:01\r",
      "\u001b[K     |████████                        | 153kB 5.6MB/s eta 0:00:01\r",
      "\u001b[K     |████████▍                       | 163kB 5.6MB/s eta 0:00:01\r",
      "\u001b[K     |█████████                       | 174kB 5.6MB/s eta 0:00:01\r",
      "\u001b[K     |█████████▌                      | 184kB 5.6MB/s eta 0:00:01\r",
      "\u001b[K     |██████████                      | 194kB 5.6MB/s eta 0:00:01\r",
      "\u001b[K     |██████████▌                     | 204kB 5.6MB/s eta 0:00:01\r",
      "\u001b[K     |███████████                     | 215kB 5.6MB/s eta 0:00:01\r",
      "\u001b[K     |███████████▋                    | 225kB 5.6MB/s eta 0:00:01\r",
      "\u001b[K     |████████████▏                   | 235kB 5.6MB/s eta 0:00:01\r",
      "\u001b[K     |████████████▋                   | 245kB 5.6MB/s eta 0:00:01\r",
      "\u001b[K     |█████████████▏                  | 256kB 5.6MB/s eta 0:00:01\r",
      "\u001b[K     |█████████████▊                  | 266kB 5.6MB/s eta 0:00:01\r",
      "\u001b[K     |██████████████▎                 | 276kB 5.6MB/s eta 0:00:01\r",
      "\u001b[K     |██████████████▊                 | 286kB 5.6MB/s eta 0:00:01\r",
      "\u001b[K     |███████████████▎                | 296kB 5.6MB/s eta 0:00:01\r",
      "\u001b[K     |███████████████▉                | 307kB 5.6MB/s eta 0:00:01\r",
      "\u001b[K     |████████████████▍               | 317kB 5.6MB/s eta 0:00:01\r",
      "\u001b[K     |████████████████▉               | 327kB 5.6MB/s eta 0:00:01\r",
      "\u001b[K     |█████████████████▍              | 337kB 5.6MB/s eta 0:00:01\r",
      "\u001b[K     |██████████████████              | 348kB 5.6MB/s eta 0:00:01\r",
      "\u001b[K     |██████████████████▍             | 358kB 5.6MB/s eta 0:00:01\r",
      "\u001b[K     |███████████████████             | 368kB 5.6MB/s eta 0:00:01\r",
      "\u001b[K     |███████████████████▌            | 378kB 5.6MB/s eta 0:00:01\r",
      "\u001b[K     |████████████████████            | 389kB 5.6MB/s eta 0:00:01\r",
      "\u001b[K     |████████████████████▌           | 399kB 5.6MB/s eta 0:00:01\r",
      "\u001b[K     |█████████████████████           | 409kB 5.6MB/s eta 0:00:01\r",
      "\u001b[K     |█████████████████████▋          | 419kB 5.6MB/s eta 0:00:01\r",
      "\u001b[K     |██████████████████████▏         | 430kB 5.6MB/s eta 0:00:01\r",
      "\u001b[K     |██████████████████████▋         | 440kB 5.6MB/s eta 0:00:01\r",
      "\u001b[K     |███████████████████████▏        | 450kB 5.6MB/s eta 0:00:01\r",
      "\u001b[K     |███████████████████████▊        | 460kB 5.6MB/s eta 0:00:01\r",
      "\u001b[K     |████████████████████████▎       | 471kB 5.6MB/s eta 0:00:01\r",
      "\u001b[K     |████████████████████████▊       | 481kB 5.6MB/s eta 0:00:01\r",
      "\u001b[K     |█████████████████████████▎      | 491kB 5.6MB/s eta 0:00:01\r",
      "\u001b[K     |█████████████████████████▉      | 501kB 5.6MB/s eta 0:00:01\r",
      "\u001b[K     |██████████████████████████▍     | 512kB 5.6MB/s eta 0:00:01\r",
      "\u001b[K     |██████████████████████████▉     | 522kB 5.6MB/s eta 0:00:01\r",
      "\u001b[K     |███████████████████████████▍    | 532kB 5.6MB/s eta 0:00:01\r",
      "\u001b[K     |████████████████████████████    | 542kB 5.6MB/s eta 0:00:01\r",
      "\u001b[K     |████████████████████████████▌   | 552kB 5.6MB/s eta 0:00:01\r",
      "\u001b[K     |█████████████████████████████   | 563kB 5.6MB/s eta 0:00:01\r",
      "\u001b[K     |█████████████████████████████▌  | 573kB 5.6MB/s eta 0:00:01\r",
      "\u001b[K     |██████████████████████████████  | 583kB 5.6MB/s eta 0:00:01\r",
      "\u001b[K     |██████████████████████████████▋ | 593kB 5.6MB/s eta 0:00:01\r",
      "\u001b[K     |███████████████████████████████ | 604kB 5.6MB/s eta 0:00:01\r",
      "\u001b[K     |███████████████████████████████▋| 614kB 5.6MB/s eta 0:00:01\r",
      "\u001b[K     |████████████████████████████████| 624kB 5.6MB/s \n",
      "\u001b[?25hBuilding wheels for collected packages: autocorrect\n",
      "  Building wheel for autocorrect (setup.py) ... \u001b[?25l\u001b[?25hdone\n",
      "  Created wheel for autocorrect: filename=autocorrect-2.3.0-cp36-none-any.whl size=621588 sha256=d49f6e91d892cd66f7724f41b730228baef254484c1df04d448960eec851afee\n",
      "  Stored in directory: /root/.cache/pip/wheels/cc/1c/30/6b0199afbd20eef5959f5eaa0ead86aeef84391740482b2279\n",
      "Successfully built autocorrect\n",
      "Installing collected packages: autocorrect\n",
      "Successfully installed autocorrect-2.3.0\n"
     ]
    }
   ],
   "source": [
    "!pip install autocorrect"
   ]
  },
  {
   "cell_type": "code",
   "execution_count": 16,
   "metadata": {
    "executionInfo": {
     "elapsed": 149735,
     "status": "ok",
     "timestamp": 1613643919018,
     "user": {
      "displayName": "Krishnendu Patra",
      "photoUrl": "https://lh3.googleusercontent.com/a-/AOh14Gi13xl22ySvhwDKo8rdt_y1PTgvODOn9MUUHRMRxa0=s64",
      "userId": "00045366593128286919"
     },
     "user_tz": -330
    },
    "id": "GGHI8prgy-Go"
   },
   "outputs": [],
   "source": [
    "from autocorrect import Speller\n",
    "from nltk.tokenize import word_tokenize\n",
    " \n",
    " \n",
    "def removal(text):\n",
    "    spell  = Speller(lang='en')\n",
    "    texts = spell(text)\n",
    "    return ' '.join([w.lower() for w in word_tokenize(text)])"
   ]
  },
  {
   "cell_type": "code",
   "execution_count": 19,
   "metadata": {
    "executionInfo": {
     "elapsed": 29059,
     "status": "ok",
     "timestamp": 1613644435243,
     "user": {
      "displayName": "Krishnendu Patra",
      "photoUrl": "https://lh3.googleusercontent.com/a-/AOh14Gi13xl22ySvhwDKo8rdt_y1PTgvODOn9MUUHRMRxa0=s64",
      "userId": "00045366593128286919"
     },
     "user_tz": -330
    },
    "id": "aZ12bMEOy__j"
   },
   "outputs": [],
   "source": [
    "text=removal(text)"
   ]
  },
  {
   "cell_type": "code",
   "execution_count": null,
   "metadata": {
    "executionInfo": {
     "elapsed": 169889,
     "status": "aborted",
     "timestamp": 1613643939192,
     "user": {
      "displayName": "Krishnendu Patra",
      "photoUrl": "https://lh3.googleusercontent.com/a-/AOh14Gi13xl22ySvhwDKo8rdt_y1PTgvODOn9MUUHRMRxa0=s64",
      "userId": "00045366593128286919"
     },
     "user_tz": -330
    },
    "id": "4tuLi6HffjXy"
   },
   "outputs": [],
   "source": [
    "text"
   ]
  },
  {
   "cell_type": "code",
   "execution_count": 18,
   "metadata": {
    "colab": {
     "base_uri": "https://localhost:8080/"
    },
    "executionInfo": {
     "elapsed": 1928,
     "status": "ok",
     "timestamp": 1613644402978,
     "user": {
      "displayName": "Krishnendu Patra",
      "photoUrl": "https://lh3.googleusercontent.com/a-/AOh14Gi13xl22ySvhwDKo8rdt_y1PTgvODOn9MUUHRMRxa0=s64",
      "userId": "00045366593128286919"
     },
     "user_tz": -330
    },
    "id": "0HF6_OUAfUMX",
    "outputId": "5f84b1ce-68da-4a10-dbf9-e7c0c76b62c8"
   },
   "outputs": [
    {
     "name": "stdout",
     "output_type": "stream",
     "text": [
      "[nltk_data] Downloading package punkt to /root/nltk_data...\n",
      "[nltk_data]   Unzipping tokenizers/punkt.zip.\n"
     ]
    },
    {
     "data": {
      "text/plain": [
       "True"
      ]
     },
     "execution_count": 18,
     "metadata": {
      "tags": []
     },
     "output_type": "execute_result"
    }
   ],
   "source": [
    "import nltk\n",
    "nltk.download('punkt')"
   ]
  },
  {
   "cell_type": "code",
   "execution_count": null,
   "metadata": {
    "executionInfo": {
     "elapsed": 169876,
     "status": "aborted",
     "timestamp": 1613643939202,
     "user": {
      "displayName": "Krishnendu Patra",
      "photoUrl": "https://lh3.googleusercontent.com/a-/AOh14Gi13xl22ySvhwDKo8rdt_y1PTgvODOn9MUUHRMRxa0=s64",
      "userId": "00045366593128286919"
     },
     "user_tz": -330
    },
    "id": "-OO0wbjPHo7F"
   },
   "outputs": [],
   "source": [
    "text = ''.join([i for i in text if not i.isdigit()]) \n",
    "text"
   ]
  },
  {
   "cell_type": "code",
   "execution_count": null,
   "metadata": {
    "executionInfo": {
     "elapsed": 169871,
     "status": "aborted",
     "timestamp": 1613643939203,
     "user": {
      "displayName": "Krishnendu Patra",
      "photoUrl": "https://lh3.googleusercontent.com/a-/AOh14Gi13xl22ySvhwDKo8rdt_y1PTgvODOn9MUUHRMRxa0=s64",
      "userId": "00045366593128286919"
     },
     "user_tz": -330
    },
    "id": "Lp5btWY3zCf2"
   },
   "outputs": [],
   "source": [
    "punctuations = \"!()-[]{};:'\\<>/?@#$%^&*_~'\"\n",
    "for x in punctuations: \n",
    "  text = text.replace(x, \"\")"
   ]
  },
  {
   "cell_type": "code",
   "execution_count": null,
   "metadata": {
    "executionInfo": {
     "elapsed": 169863,
     "status": "aborted",
     "timestamp": 1613643939205,
     "user": {
      "displayName": "Krishnendu Patra",
      "photoUrl": "https://lh3.googleusercontent.com/a-/AOh14Gi13xl22ySvhwDKo8rdt_y1PTgvODOn9MUUHRMRxa0=s64",
      "userId": "00045366593128286919"
     },
     "user_tz": -330
    },
    "id": "lqnLNeeFzEgw"
   },
   "outputs": [],
   "source": [
    "text"
   ]
  },
  {
   "cell_type": "code",
   "execution_count": null,
   "metadata": {
    "executionInfo": {
     "elapsed": 169859,
     "status": "aborted",
     "timestamp": 1613643939206,
     "user": {
      "displayName": "Krishnendu Patra",
      "photoUrl": "https://lh3.googleusercontent.com/a-/AOh14Gi13xl22ySvhwDKo8rdt_y1PTgvODOn9MUUHRMRxa0=s64",
      "userId": "00045366593128286919"
     },
     "user_tz": -330
    },
    "id": "nJ6KBHkbzHfP"
   },
   "outputs": [],
   "source": []
  },
  {
   "cell_type": "code",
   "execution_count": 20,
   "metadata": {
    "colab": {
     "base_uri": "https://localhost:8080/"
    },
    "executionInfo": {
     "elapsed": 4290,
     "status": "ok",
     "timestamp": 1613644468834,
     "user": {
      "displayName": "Krishnendu Patra",
      "photoUrl": "https://lh3.googleusercontent.com/a-/AOh14Gi13xl22ySvhwDKo8rdt_y1PTgvODOn9MUUHRMRxa0=s64",
      "userId": "00045366593128286919"
     },
     "user_tz": -330
    },
    "id": "yBxfFzblzK7p",
    "outputId": "f5a59918-ffeb-4309-c280-598fbe3f7fd2"
   },
   "outputs": [
    {
     "name": "stdout",
     "output_type": "stream",
     "text": [
      "Collecting gTTS\n",
      "  Downloading https://files.pythonhosted.org/packages/5f/b9/94e59337107be134b21ce395a29fc0715b707b560108d6797de2d93e1178/gTTS-2.2.2-py3-none-any.whl\n",
      "Requirement already satisfied: six in /usr/local/lib/python3.6/dist-packages (from gTTS) (1.12.0)\n",
      "Requirement already satisfied: click in /usr/local/lib/python3.6/dist-packages (from gTTS) (7.1.2)\n",
      "Requirement already satisfied: requests in /usr/local/lib/python3.6/dist-packages (from gTTS) (2.23.0)\n",
      "Requirement already satisfied: idna<3,>=2.5 in /usr/local/lib/python3.6/dist-packages (from requests->gTTS) (2.10)\n",
      "Requirement already satisfied: urllib3!=1.25.0,!=1.25.1,<1.26,>=1.21.1 in /usr/local/lib/python3.6/dist-packages (from requests->gTTS) (1.24.3)\n",
      "Requirement already satisfied: chardet<4,>=3.0.2 in /usr/local/lib/python3.6/dist-packages (from requests->gTTS) (3.0.4)\n",
      "Requirement already satisfied: certifi>=2017.4.17 in /usr/local/lib/python3.6/dist-packages (from requests->gTTS) (2020.12.5)\n",
      "Installing collected packages: gTTS\n",
      "Successfully installed gTTS-2.2.2\n"
     ]
    }
   ],
   "source": [
    "!pip install gTTS"
   ]
  },
  {
   "cell_type": "code",
   "execution_count": 21,
   "metadata": {
    "colab": {
     "base_uri": "https://localhost:8080/"
    },
    "executionInfo": {
     "elapsed": 46321,
     "status": "ok",
     "timestamp": 1613644638567,
     "user": {
      "displayName": "Krishnendu Patra",
      "photoUrl": "https://lh3.googleusercontent.com/a-/AOh14Gi13xl22ySvhwDKo8rdt_y1PTgvODOn9MUUHRMRxa0=s64",
      "userId": "00045366593128286919"
     },
     "user_tz": -330
    },
    "id": "bubUku5IzNRD",
    "outputId": "e533eda8-10c4-4986-ea32-dc3762a13daa"
   },
   "outputs": [
    {
     "data": {
      "text/plain": [
       "32512"
      ]
     },
     "execution_count": 21,
     "metadata": {
      "tags": []
     },
     "output_type": "execute_result"
    }
   ],
   "source": [
    "from gtts import gTTS \n",
    "import os \n",
    "mytext = text\n",
    "language = 'en' \n",
    "audiobook = gTTS(text=mytext, lang=language, slow=False) \n",
    "audiobook.save(\"kids.mp3\") \n",
    "os.system(\"mpg321 kids.mp3\") "
   ]
  }
 ],
 "metadata": {
  "colab": {
   "collapsed_sections": [],
   "name": "FinalYearProject_18_02_2021_part-2.ipynb",
   "provenance": [],
   "toc_visible": true
  },
  "kernelspec": {
   "display_name": "Python 3",
   "language": "python",
   "name": "python3"
  },
  "language_info": {
   "codemirror_mode": {
    "name": "ipython",
    "version": 3
   },
   "file_extension": ".py",
   "mimetype": "text/x-python",
   "name": "python",
   "nbconvert_exporter": "python",
   "pygments_lexer": "ipython3",
   "version": "3.7.1"
  }
 },
 "nbformat": 4,
 "nbformat_minor": 1
}
